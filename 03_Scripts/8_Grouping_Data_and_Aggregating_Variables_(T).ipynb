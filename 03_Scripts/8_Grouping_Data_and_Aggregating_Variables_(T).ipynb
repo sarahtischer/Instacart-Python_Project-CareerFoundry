{
 "cells": [
  {
   "cell_type": "markdown",
   "id": "ddbf8fa5",
   "metadata": {},
   "source": [
    "**This script contains the following points:**\n",
    "\n",
    "1. Importing libraries\n",
    "2. Importing data\n",
    "3. Grouping & aggregating data\n",
    "    - Calculate mean values based on departments IDs (Question 2)\n",
    "    - Create a loyalty flag based on number of orders (Question 4)\n",
    "    - Determine spending habits of the three types of customers (Question 5)\n",
    "    - Create order frequency flag based on days since prior order (Question 7)\n",
    "4. Exporting data"
   ]
  },
  {
   "cell_type": "markdown",
   "id": "af51b83b",
   "metadata": {},
   "source": [
    "# 1. Importing libraries"
   ]
  },
  {
   "cell_type": "code",
   "execution_count": 1,
   "id": "177b277c",
   "metadata": {},
   "outputs": [],
   "source": [
    "# Import libraries\n",
    "import pandas as pd\n",
    "import numpy as np\n",
    "import os"
   ]
  },
  {
   "cell_type": "markdown",
   "id": "81d65e8f",
   "metadata": {},
   "source": [
    "# 2. Importing data"
   ]
  },
  {
   "cell_type": "code",
   "execution_count": 2,
   "id": "383c6196",
   "metadata": {},
   "outputs": [],
   "source": [
    "# Turn project folder path into a string\n",
    "path = r'/Users/sarahtischer/Desktop/CareerFoundry/Data Immersion/Achievement 4/01-2024_Instacart_Basket_Analysis'"
   ]
  },
  {
   "cell_type": "code",
   "execution_count": 3,
   "id": "056090ef",
   "metadata": {},
   "outputs": [],
   "source": [
    "# Import \"df_ords_prods_merged(2).pkl\"\n",
    "df_ords_prods_merged = pd.read_pickle(os.path.join(path, '02_Data', 'Prepared_data', 'orders_products_merged(2).pkl'))"
   ]
  },
  {
   "cell_type": "code",
   "execution_count": 4,
   "id": "961847d8",
   "metadata": {},
   "outputs": [
    {
     "data": {
      "text/plain": [
       "(32404859, 17)"
      ]
     },
     "execution_count": 4,
     "metadata": {},
     "output_type": "execute_result"
    }
   ],
   "source": [
    "df_ords_prods_merged.shape"
   ]
  },
  {
   "cell_type": "markdown",
   "id": "3b6aaceb",
   "metadata": {},
   "source": [
    "# 3. Grouping & aggregating data"
   ]
  },
  {
   "cell_type": "markdown",
   "id": "89e14de2",
   "metadata": {},
   "source": [
    "### Calculate mean values based on departments IDs (Question 2)"
   ]
  },
  {
   "cell_type": "code",
   "execution_count": 5,
   "id": "f4b41533",
   "metadata": {},
   "outputs": [
    {
     "data": {
      "text/html": [
       "<div>\n",
       "<style scoped>\n",
       "    .dataframe tbody tr th:only-of-type {\n",
       "        vertical-align: middle;\n",
       "    }\n",
       "\n",
       "    .dataframe tbody tr th {\n",
       "        vertical-align: top;\n",
       "    }\n",
       "\n",
       "    .dataframe thead tr th {\n",
       "        text-align: left;\n",
       "    }\n",
       "\n",
       "    .dataframe thead tr:last-of-type th {\n",
       "        text-align: right;\n",
       "    }\n",
       "</style>\n",
       "<table border=\"1\" class=\"dataframe\">\n",
       "  <thead>\n",
       "    <tr>\n",
       "      <th></th>\n",
       "      <th>order_number</th>\n",
       "    </tr>\n",
       "    <tr>\n",
       "      <th></th>\n",
       "      <th>mean</th>\n",
       "    </tr>\n",
       "    <tr>\n",
       "      <th>department_id</th>\n",
       "      <th></th>\n",
       "    </tr>\n",
       "  </thead>\n",
       "  <tbody>\n",
       "    <tr>\n",
       "      <th>1</th>\n",
       "      <td>15.457838</td>\n",
       "    </tr>\n",
       "    <tr>\n",
       "      <th>2</th>\n",
       "      <td>17.277920</td>\n",
       "    </tr>\n",
       "    <tr>\n",
       "      <th>3</th>\n",
       "      <td>17.170395</td>\n",
       "    </tr>\n",
       "    <tr>\n",
       "      <th>4</th>\n",
       "      <td>17.811403</td>\n",
       "    </tr>\n",
       "    <tr>\n",
       "      <th>5</th>\n",
       "      <td>15.215751</td>\n",
       "    </tr>\n",
       "    <tr>\n",
       "      <th>6</th>\n",
       "      <td>16.439806</td>\n",
       "    </tr>\n",
       "    <tr>\n",
       "      <th>7</th>\n",
       "      <td>17.225802</td>\n",
       "    </tr>\n",
       "    <tr>\n",
       "      <th>8</th>\n",
       "      <td>15.340650</td>\n",
       "    </tr>\n",
       "    <tr>\n",
       "      <th>9</th>\n",
       "      <td>15.895474</td>\n",
       "    </tr>\n",
       "    <tr>\n",
       "      <th>10</th>\n",
       "      <td>20.197148</td>\n",
       "    </tr>\n",
       "    <tr>\n",
       "      <th>11</th>\n",
       "      <td>16.170638</td>\n",
       "    </tr>\n",
       "    <tr>\n",
       "      <th>12</th>\n",
       "      <td>15.887671</td>\n",
       "    </tr>\n",
       "    <tr>\n",
       "      <th>13</th>\n",
       "      <td>16.583536</td>\n",
       "    </tr>\n",
       "    <tr>\n",
       "      <th>14</th>\n",
       "      <td>16.773669</td>\n",
       "    </tr>\n",
       "    <tr>\n",
       "      <th>15</th>\n",
       "      <td>16.165037</td>\n",
       "    </tr>\n",
       "    <tr>\n",
       "      <th>16</th>\n",
       "      <td>17.665606</td>\n",
       "    </tr>\n",
       "    <tr>\n",
       "      <th>17</th>\n",
       "      <td>15.694469</td>\n",
       "    </tr>\n",
       "    <tr>\n",
       "      <th>18</th>\n",
       "      <td>19.310397</td>\n",
       "    </tr>\n",
       "    <tr>\n",
       "      <th>19</th>\n",
       "      <td>17.177343</td>\n",
       "    </tr>\n",
       "    <tr>\n",
       "      <th>20</th>\n",
       "      <td>16.473447</td>\n",
       "    </tr>\n",
       "    <tr>\n",
       "      <th>21</th>\n",
       "      <td>22.902379</td>\n",
       "    </tr>\n",
       "  </tbody>\n",
       "</table>\n",
       "</div>"
      ],
      "text/plain": [
       "              order_number\n",
       "                      mean\n",
       "department_id             \n",
       "1                15.457838\n",
       "2                17.277920\n",
       "3                17.170395\n",
       "4                17.811403\n",
       "5                15.215751\n",
       "6                16.439806\n",
       "7                17.225802\n",
       "8                15.340650\n",
       "9                15.895474\n",
       "10               20.197148\n",
       "11               16.170638\n",
       "12               15.887671\n",
       "13               16.583536\n",
       "14               16.773669\n",
       "15               16.165037\n",
       "16               17.665606\n",
       "17               15.694469\n",
       "18               19.310397\n",
       "19               17.177343\n",
       "20               16.473447\n",
       "21               22.902379"
      ]
     },
     "execution_count": 5,
     "metadata": {},
     "output_type": "execute_result"
    }
   ],
   "source": [
    "# Group dataframe by 'department_id' & aggregate mean for 'order_number'\n",
    "df_ords_prods_merged.groupby('department_id').agg({'order_number': ['mean']})"
   ]
  },
  {
   "cell_type": "markdown",
   "id": "d4eff356",
   "metadata": {},
   "source": [
    "#### *<mark>Answer (Question 3):</mark> In general, the means for each department in the entire dataset seem slightly higher than those in the subset. The differences are relatively small but noticeable. Above that, the relative ordering of departments by mean order_number is consistent between the subset and the entire dataset. Departments that have higher means in the subset also tend to have higher means in the entire dataset, and vice versa.*"
   ]
  },
  {
   "attachments": {
    "Screenshot%202024-02-05%20at%2012.26.13.png": {
     "image/png": "[encoded data removed]"
    }
   },
   "cell_type": "markdown",
   "id": "036b8838",
   "metadata": {},
   "source": [
    "#### *<mark>Note:</mark> The results I got for the subset when I followed along with the Exercise were different from those shown in the screenshot of 'Aggregating Data with agg()'. This could be due to different ordering, which I did not change.*\n",
    "\n",
    "The output I got in my Exercise notebook looks like this:\n",
    "\n",
    "![Screenshot%202024-02-05%20at%2012.26.13.png](attachment:Screenshot%202024-02-05%20at%2012.26.13.png)"
   ]
  },
  {
   "cell_type": "markdown",
   "id": "2c7b8be0",
   "metadata": {},
   "source": [
    "### Create a loyalty flag based on number of orders (Question 4)"
   ]
  },
  {
   "cell_type": "code",
   "execution_count": 6,
   "id": "a73e56e2",
   "metadata": {
    "scrolled": true
   },
   "outputs": [],
   "source": [
    "# 1. Group data by 'user_id' & 2. generate 'max_order' for each user\n",
    "#df_ords_prods_merged['max_order'] = df_ords_prods_merged.groupby(['user_id'])['order_number'].transform(np.max)\n",
    "\n",
    "# Use string instead of np. following FutureWarning caused by the above command\n",
    "df_ords_prods_merged['max_order'] = df_ords_prods_merged.groupby(['user_id'])['order_number'].transform('max')"
   ]
  },
  {
   "cell_type": "code",
   "execution_count": 7,
   "id": "c9b0661e",
   "metadata": {},
   "outputs": [
    {
     "data": {
      "text/html": [
       "<div>\n",
       "<style scoped>\n",
       "    .dataframe tbody tr th:only-of-type {\n",
       "        vertical-align: middle;\n",
       "    }\n",
       "\n",
       "    .dataframe tbody tr th {\n",
       "        vertical-align: top;\n",
       "    }\n",
       "\n",
       "    .dataframe thead th {\n",
       "        text-align: right;\n",
       "    }\n",
       "</style>\n",
       "<table border=\"1\" class=\"dataframe\">\n",
       "  <thead>\n",
       "    <tr style=\"text-align: right;\">\n",
       "      <th></th>\n",
       "      <th>order_number</th>\n",
       "      <th>max_order</th>\n",
       "    </tr>\n",
       "  </thead>\n",
       "  <tbody>\n",
       "    <tr>\n",
       "      <th>16118583</th>\n",
       "      <td>29</td>\n",
       "      <td>30</td>\n",
       "    </tr>\n",
       "    <tr>\n",
       "      <th>22489529</th>\n",
       "      <td>3</td>\n",
       "      <td>6</td>\n",
       "    </tr>\n",
       "    <tr>\n",
       "      <th>8161708</th>\n",
       "      <td>1</td>\n",
       "      <td>4</td>\n",
       "    </tr>\n",
       "    <tr>\n",
       "      <th>15731792</th>\n",
       "      <td>2</td>\n",
       "      <td>32</td>\n",
       "    </tr>\n",
       "    <tr>\n",
       "      <th>26888858</th>\n",
       "      <td>30</td>\n",
       "      <td>31</td>\n",
       "    </tr>\n",
       "    <tr>\n",
       "      <th>10842693</th>\n",
       "      <td>7</td>\n",
       "      <td>24</td>\n",
       "    </tr>\n",
       "    <tr>\n",
       "      <th>6766851</th>\n",
       "      <td>29</td>\n",
       "      <td>57</td>\n",
       "    </tr>\n",
       "    <tr>\n",
       "      <th>15121938</th>\n",
       "      <td>17</td>\n",
       "      <td>21</td>\n",
       "    </tr>\n",
       "    <tr>\n",
       "      <th>7735871</th>\n",
       "      <td>5</td>\n",
       "      <td>5</td>\n",
       "    </tr>\n",
       "    <tr>\n",
       "      <th>12611322</th>\n",
       "      <td>5</td>\n",
       "      <td>9</td>\n",
       "    </tr>\n",
       "  </tbody>\n",
       "</table>\n",
       "</div>"
      ],
      "text/plain": [
       "          order_number  max_order\n",
       "16118583            29         30\n",
       "22489529             3          6\n",
       "8161708              1          4\n",
       "15731792             2         32\n",
       "26888858            30         31\n",
       "10842693             7         24\n",
       "6766851             29         57\n",
       "15121938            17         21\n",
       "7735871              5          5\n",
       "12611322             5          9"
      ]
     },
     "execution_count": 7,
     "metadata": {},
     "output_type": "execute_result"
    }
   ],
   "source": [
    "# Check the sample output for relevant columns\n",
    "df_ords_prods_merged[['order_number', 'max_order']].sample(10)"
   ]
  },
  {
   "cell_type": "code",
   "execution_count": 8,
   "id": "35804951",
   "metadata": {},
   "outputs": [],
   "source": [
    "# 3. Assign loyalty flag based on 'max_order' value\n",
    "df_ords_prods_merged.loc[df_ords_prods_merged['max_order'] > 40, 'loyalty_flag'] = 'Loyal customer'\n",
    "df_ords_prods_merged.loc[(df_ords_prods_merged['max_order'] <= 40) & (df_ords_prods_merged['max_order'] > 10), 'loyalty_flag'] = 'Regular customer'\n",
    "df_ords_prods_merged.loc[df_ords_prods_merged['max_order'] <= 10, 'loyalty_flag'] = 'New customer'"
   ]
  },
  {
   "cell_type": "code",
   "execution_count": 9,
   "id": "83fdaeac",
   "metadata": {},
   "outputs": [
    {
     "data": {
      "text/plain": [
       "loyalty_flag\n",
       "Regular customer    15876776\n",
       "Loyal customer      10284093\n",
       "New customer         6243990\n",
       "Name: count, dtype: int64"
      ]
     },
     "execution_count": 9,
     "metadata": {},
     "output_type": "execute_result"
    }
   ],
   "source": [
    "# Check frequencies of new column 'loyalty_flag'\n",
    "df_ords_prods_merged['loyalty_flag'].value_counts(dropna = False)"
   ]
  },
  {
   "cell_type": "code",
   "execution_count": 10,
   "id": "6503624d",
   "metadata": {},
   "outputs": [
    {
     "data": {
      "text/html": [
       "<div>\n",
       "<style scoped>\n",
       "    .dataframe tbody tr th:only-of-type {\n",
       "        vertical-align: middle;\n",
       "    }\n",
       "\n",
       "    .dataframe tbody tr th {\n",
       "        vertical-align: top;\n",
       "    }\n",
       "\n",
       "    .dataframe thead th {\n",
       "        text-align: right;\n",
       "    }\n",
       "</style>\n",
       "<table border=\"1\" class=\"dataframe\">\n",
       "  <thead>\n",
       "    <tr style=\"text-align: right;\">\n",
       "      <th></th>\n",
       "      <th>order_number</th>\n",
       "      <th>loyalty_flag</th>\n",
       "    </tr>\n",
       "  </thead>\n",
       "  <tbody>\n",
       "    <tr>\n",
       "      <th>16125380</th>\n",
       "      <td>24</td>\n",
       "      <td>Regular customer</td>\n",
       "    </tr>\n",
       "    <tr>\n",
       "      <th>24156346</th>\n",
       "      <td>36</td>\n",
       "      <td>Loyal customer</td>\n",
       "    </tr>\n",
       "    <tr>\n",
       "      <th>13118807</th>\n",
       "      <td>2</td>\n",
       "      <td>New customer</td>\n",
       "    </tr>\n",
       "    <tr>\n",
       "      <th>15101097</th>\n",
       "      <td>26</td>\n",
       "      <td>Regular customer</td>\n",
       "    </tr>\n",
       "    <tr>\n",
       "      <th>24708427</th>\n",
       "      <td>9</td>\n",
       "      <td>Regular customer</td>\n",
       "    </tr>\n",
       "    <tr>\n",
       "      <th>846384</th>\n",
       "      <td>28</td>\n",
       "      <td>Regular customer</td>\n",
       "    </tr>\n",
       "    <tr>\n",
       "      <th>28000286</th>\n",
       "      <td>13</td>\n",
       "      <td>Regular customer</td>\n",
       "    </tr>\n",
       "    <tr>\n",
       "      <th>2791437</th>\n",
       "      <td>6</td>\n",
       "      <td>Loyal customer</td>\n",
       "    </tr>\n",
       "    <tr>\n",
       "      <th>24230734</th>\n",
       "      <td>1</td>\n",
       "      <td>Regular customer</td>\n",
       "    </tr>\n",
       "    <tr>\n",
       "      <th>26411337</th>\n",
       "      <td>45</td>\n",
       "      <td>Loyal customer</td>\n",
       "    </tr>\n",
       "  </tbody>\n",
       "</table>\n",
       "</div>"
      ],
      "text/plain": [
       "          order_number      loyalty_flag\n",
       "16125380            24  Regular customer\n",
       "24156346            36    Loyal customer\n",
       "13118807             2      New customer\n",
       "15101097            26  Regular customer\n",
       "24708427             9  Regular customer\n",
       "846384              28  Regular customer\n",
       "28000286            13  Regular customer\n",
       "2791437              6    Loyal customer\n",
       "24230734             1  Regular customer\n",
       "26411337            45    Loyal customer"
      ]
     },
     "execution_count": 10,
     "metadata": {},
     "output_type": "execute_result"
    }
   ],
   "source": [
    "# Check the sample output for relevant columns\n",
    "df_ords_prods_merged[['order_number', 'loyalty_flag']].sample(10)"
   ]
  },
  {
   "cell_type": "markdown",
   "id": "8a381f62",
   "metadata": {},
   "source": [
    "### Determine spending habits of the three types of customers (Question 5)"
   ]
  },
  {
   "cell_type": "code",
   "execution_count": 11,
   "id": "2d503437",
   "metadata": {
    "scrolled": true
   },
   "outputs": [
    {
     "data": {
      "text/html": [
       "<div>\n",
       "<style scoped>\n",
       "    .dataframe tbody tr th:only-of-type {\n",
       "        vertical-align: middle;\n",
       "    }\n",
       "\n",
       "    .dataframe tbody tr th {\n",
       "        vertical-align: top;\n",
       "    }\n",
       "\n",
       "    .dataframe thead tr th {\n",
       "        text-align: left;\n",
       "    }\n",
       "\n",
       "    .dataframe thead tr:last-of-type th {\n",
       "        text-align: right;\n",
       "    }\n",
       "</style>\n",
       "<table border=\"1\" class=\"dataframe\">\n",
       "  <thead>\n",
       "    <tr>\n",
       "      <th></th>\n",
       "      <th colspan=\"3\" halign=\"left\">prices</th>\n",
       "    </tr>\n",
       "    <tr>\n",
       "      <th></th>\n",
       "      <th>mean</th>\n",
       "      <th>min</th>\n",
       "      <th>max</th>\n",
       "    </tr>\n",
       "    <tr>\n",
       "      <th>loyalty_flag</th>\n",
       "      <th></th>\n",
       "      <th></th>\n",
       "      <th></th>\n",
       "    </tr>\n",
       "  </thead>\n",
       "  <tbody>\n",
       "    <tr>\n",
       "      <th>Loyal customer</th>\n",
       "      <td>10.386336</td>\n",
       "      <td>1.0</td>\n",
       "      <td>99999.0</td>\n",
       "    </tr>\n",
       "    <tr>\n",
       "      <th>New customer</th>\n",
       "      <td>13.294670</td>\n",
       "      <td>1.0</td>\n",
       "      <td>99999.0</td>\n",
       "    </tr>\n",
       "    <tr>\n",
       "      <th>Regular customer</th>\n",
       "      <td>12.495717</td>\n",
       "      <td>1.0</td>\n",
       "      <td>99999.0</td>\n",
       "    </tr>\n",
       "  </tbody>\n",
       "</table>\n",
       "</div>"
      ],
      "text/plain": [
       "                     prices              \n",
       "                       mean  min      max\n",
       "loyalty_flag                             \n",
       "Loyal customer    10.386336  1.0  99999.0\n",
       "New customer      13.294670  1.0  99999.0\n",
       "Regular customer  12.495717  1.0  99999.0"
      ]
     },
     "execution_count": 11,
     "metadata": {},
     "output_type": "execute_result"
    }
   ],
   "source": [
    "# Group by loyalty flag and aggregate mean, minimum and maximum price\n",
    "df_ords_prods_merged.groupby('loyalty_flag').agg({'prices': ['mean', 'min', 'max']})"
   ]
  },
  {
   "cell_type": "markdown",
   "id": "da40cb46",
   "metadata": {},
   "source": [
    "#### *<mark>Answer (Question 5):</mark> Basic statistics show that, on average, loyal customers order lower-priced products, while new and regular customers order higher-priced products.*"
   ]
  },
  {
   "cell_type": "markdown",
   "id": "7e5393c8",
   "metadata": {},
   "source": [
    "### Create spending flag based on average prices (Question 6)"
   ]
  },
  {
   "cell_type": "code",
   "execution_count": 12,
   "id": "b83d8ad5",
   "metadata": {},
   "outputs": [],
   "source": [
    "# 1. Group data by 'user_id' & 2. generate 'avg_price' for each user\n",
    "#df_ords_prods_merged['avg_price'] = df_ords_prods_merged.groupby(['user_id'])['prices'].transform(np.mean)\n",
    "\n",
    "# Use string instead of np. following FutureWarning caused by the above command\n",
    "df_ords_prods_merged['avg_price'] = df_ords_prods_merged.groupby(['user_id'])['prices'].transform('mean')"
   ]
  },
  {
   "cell_type": "code",
   "execution_count": 13,
   "id": "f4650bb6",
   "metadata": {},
   "outputs": [
    {
     "data": {
      "text/html": [
       "<div>\n",
       "<style scoped>\n",
       "    .dataframe tbody tr th:only-of-type {\n",
       "        vertical-align: middle;\n",
       "    }\n",
       "\n",
       "    .dataframe tbody tr th {\n",
       "        vertical-align: top;\n",
       "    }\n",
       "\n",
       "    .dataframe thead th {\n",
       "        text-align: right;\n",
       "    }\n",
       "</style>\n",
       "<table border=\"1\" class=\"dataframe\">\n",
       "  <thead>\n",
       "    <tr style=\"text-align: right;\">\n",
       "      <th></th>\n",
       "      <th>avg_price</th>\n",
       "      <th>prices</th>\n",
       "    </tr>\n",
       "  </thead>\n",
       "  <tbody>\n",
       "    <tr>\n",
       "      <th>23180706</th>\n",
       "      <td>8.520513</td>\n",
       "      <td>3.9</td>\n",
       "    </tr>\n",
       "    <tr>\n",
       "      <th>26021258</th>\n",
       "      <td>7.534694</td>\n",
       "      <td>7.1</td>\n",
       "    </tr>\n",
       "    <tr>\n",
       "      <th>11502948</th>\n",
       "      <td>7.752381</td>\n",
       "      <td>3.4</td>\n",
       "    </tr>\n",
       "    <tr>\n",
       "      <th>5048775</th>\n",
       "      <td>7.701706</td>\n",
       "      <td>4.6</td>\n",
       "    </tr>\n",
       "    <tr>\n",
       "      <th>5156094</th>\n",
       "      <td>7.265363</td>\n",
       "      <td>7.7</td>\n",
       "    </tr>\n",
       "    <tr>\n",
       "      <th>11523181</th>\n",
       "      <td>7.718623</td>\n",
       "      <td>4.6</td>\n",
       "    </tr>\n",
       "    <tr>\n",
       "      <th>21985823</th>\n",
       "      <td>7.719241</td>\n",
       "      <td>11.8</td>\n",
       "    </tr>\n",
       "    <tr>\n",
       "      <th>16188714</th>\n",
       "      <td>9.209052</td>\n",
       "      <td>5.5</td>\n",
       "    </tr>\n",
       "    <tr>\n",
       "      <th>28881740</th>\n",
       "      <td>7.040476</td>\n",
       "      <td>8.5</td>\n",
       "    </tr>\n",
       "    <tr>\n",
       "      <th>3394012</th>\n",
       "      <td>9.089583</td>\n",
       "      <td>3.6</td>\n",
       "    </tr>\n",
       "  </tbody>\n",
       "</table>\n",
       "</div>"
      ],
      "text/plain": [
       "          avg_price  prices\n",
       "23180706   8.520513     3.9\n",
       "26021258   7.534694     7.1\n",
       "11502948   7.752381     3.4\n",
       "5048775    7.701706     4.6\n",
       "5156094    7.265363     7.7\n",
       "11523181   7.718623     4.6\n",
       "21985823   7.719241    11.8\n",
       "16188714   9.209052     5.5\n",
       "28881740   7.040476     8.5\n",
       "3394012    9.089583     3.6"
      ]
     },
     "execution_count": 13,
     "metadata": {},
     "output_type": "execute_result"
    }
   ],
   "source": [
    "# Check the sample output for relevant columns\n",
    "df_ords_prods_merged[['avg_price', 'prices']].sample(10)"
   ]
  },
  {
   "cell_type": "code",
   "execution_count": 14,
   "id": "8fb00b5c",
   "metadata": {},
   "outputs": [],
   "source": [
    "# 3. Assign spending flag based on 'avg_price' value\n",
    "df_ords_prods_merged.loc[df_ords_prods_merged['avg_price'] >= 10, 'spending_flag'] = 'High spender'\n",
    "df_ords_prods_merged.loc[df_ords_prods_merged['avg_price'] < 10, 'spending_flag'] = 'Low spender'"
   ]
  },
  {
   "cell_type": "code",
   "execution_count": 15,
   "id": "fb4f8154",
   "metadata": {
    "scrolled": true
   },
   "outputs": [
    {
     "data": {
      "text/plain": [
       "spending_flag\n",
       "Low spender     31770614\n",
       "High spender      634245\n",
       "Name: count, dtype: int64"
      ]
     },
     "execution_count": 15,
     "metadata": {},
     "output_type": "execute_result"
    }
   ],
   "source": [
    "# Check frequencies of new column 'loyalty_flag'\n",
    "df_ords_prods_merged['spending_flag'].value_counts(dropna = False)"
   ]
  },
  {
   "cell_type": "code",
   "execution_count": 16,
   "id": "b8d5c6f5",
   "metadata": {},
   "outputs": [
    {
     "data": {
      "text/html": [
       "<div>\n",
       "<style scoped>\n",
       "    .dataframe tbody tr th:only-of-type {\n",
       "        vertical-align: middle;\n",
       "    }\n",
       "\n",
       "    .dataframe tbody tr th {\n",
       "        vertical-align: top;\n",
       "    }\n",
       "\n",
       "    .dataframe thead th {\n",
       "        text-align: right;\n",
       "    }\n",
       "</style>\n",
       "<table border=\"1\" class=\"dataframe\">\n",
       "  <thead>\n",
       "    <tr style=\"text-align: right;\">\n",
       "      <th></th>\n",
       "      <th>avg_price</th>\n",
       "      <th>prices</th>\n",
       "      <th>spending_flag</th>\n",
       "    </tr>\n",
       "  </thead>\n",
       "  <tbody>\n",
       "    <tr>\n",
       "      <th>5863614</th>\n",
       "      <td>8.069639</td>\n",
       "      <td>7.2</td>\n",
       "      <td>Low spender</td>\n",
       "    </tr>\n",
       "    <tr>\n",
       "      <th>28712582</th>\n",
       "      <td>6.463636</td>\n",
       "      <td>4.2</td>\n",
       "      <td>Low spender</td>\n",
       "    </tr>\n",
       "    <tr>\n",
       "      <th>23857236</th>\n",
       "      <td>8.029412</td>\n",
       "      <td>12.8</td>\n",
       "      <td>Low spender</td>\n",
       "    </tr>\n",
       "    <tr>\n",
       "      <th>15192039</th>\n",
       "      <td>7.956250</td>\n",
       "      <td>7.4</td>\n",
       "      <td>Low spender</td>\n",
       "    </tr>\n",
       "    <tr>\n",
       "      <th>6147217</th>\n",
       "      <td>9.163229</td>\n",
       "      <td>7.7</td>\n",
       "      <td>Low spender</td>\n",
       "    </tr>\n",
       "    <tr>\n",
       "      <th>22388011</th>\n",
       "      <td>8.047368</td>\n",
       "      <td>6.6</td>\n",
       "      <td>Low spender</td>\n",
       "    </tr>\n",
       "    <tr>\n",
       "      <th>676106</th>\n",
       "      <td>8.143151</td>\n",
       "      <td>4.2</td>\n",
       "      <td>Low spender</td>\n",
       "    </tr>\n",
       "    <tr>\n",
       "      <th>30581441</th>\n",
       "      <td>7.713368</td>\n",
       "      <td>4.0</td>\n",
       "      <td>Low spender</td>\n",
       "    </tr>\n",
       "    <tr>\n",
       "      <th>26882384</th>\n",
       "      <td>9.030696</td>\n",
       "      <td>13.2</td>\n",
       "      <td>Low spender</td>\n",
       "    </tr>\n",
       "    <tr>\n",
       "      <th>12518988</th>\n",
       "      <td>7.391912</td>\n",
       "      <td>5.5</td>\n",
       "      <td>Low spender</td>\n",
       "    </tr>\n",
       "  </tbody>\n",
       "</table>\n",
       "</div>"
      ],
      "text/plain": [
       "          avg_price  prices spending_flag\n",
       "5863614    8.069639     7.2   Low spender\n",
       "28712582   6.463636     4.2   Low spender\n",
       "23857236   8.029412    12.8   Low spender\n",
       "15192039   7.956250     7.4   Low spender\n",
       "6147217    9.163229     7.7   Low spender\n",
       "22388011   8.047368     6.6   Low spender\n",
       "676106     8.143151     4.2   Low spender\n",
       "30581441   7.713368     4.0   Low spender\n",
       "26882384   9.030696    13.2   Low spender\n",
       "12518988   7.391912     5.5   Low spender"
      ]
     },
     "execution_count": 16,
     "metadata": {},
     "output_type": "execute_result"
    }
   ],
   "source": [
    "# Check the sample output for relevant columns\n",
    "df_ords_prods_merged[['avg_price', 'prices', 'spending_flag']].sample(10)"
   ]
  },
  {
   "cell_type": "markdown",
   "id": "34dcfb8d",
   "metadata": {},
   "source": [
    "### Create order frequency flag based on days since prior order (Question 7)"
   ]
  },
  {
   "cell_type": "code",
   "execution_count": 17,
   "id": "9c0d570b",
   "metadata": {},
   "outputs": [],
   "source": [
    "# 1. Group data by 'user_id' & 2. generate 'median_frequency' for each user\n",
    "#df_ords_prods_merged['median_frequency'] = df_ords_prods_merged.groupby(['user_id'])['days_since_prior_order'].transform(np.median)\n",
    "\n",
    "# Use string instead of np. following FutureWarning caused by the above command\n",
    "df_ords_prods_merged['median_frequency'] = df_ords_prods_merged.groupby(['user_id'])['days_since_prior_order'].transform('median')"
   ]
  },
  {
   "cell_type": "code",
   "execution_count": 18,
   "id": "79ef7308",
   "metadata": {
    "scrolled": false
   },
   "outputs": [
    {
     "data": {
      "text/html": [
       "<div>\n",
       "<style scoped>\n",
       "    .dataframe tbody tr th:only-of-type {\n",
       "        vertical-align: middle;\n",
       "    }\n",
       "\n",
       "    .dataframe tbody tr th {\n",
       "        vertical-align: top;\n",
       "    }\n",
       "\n",
       "    .dataframe thead th {\n",
       "        text-align: right;\n",
       "    }\n",
       "</style>\n",
       "<table border=\"1\" class=\"dataframe\">\n",
       "  <thead>\n",
       "    <tr style=\"text-align: right;\">\n",
       "      <th></th>\n",
       "      <th>days_since_prior_order</th>\n",
       "      <th>median_frequency</th>\n",
       "    </tr>\n",
       "  </thead>\n",
       "  <tbody>\n",
       "    <tr>\n",
       "      <th>12763285</th>\n",
       "      <td>27.0</td>\n",
       "      <td>7.0</td>\n",
       "    </tr>\n",
       "    <tr>\n",
       "      <th>8017115</th>\n",
       "      <td>4.0</td>\n",
       "      <td>4.0</td>\n",
       "    </tr>\n",
       "    <tr>\n",
       "      <th>5528562</th>\n",
       "      <td>8.0</td>\n",
       "      <td>7.0</td>\n",
       "    </tr>\n",
       "    <tr>\n",
       "      <th>10225575</th>\n",
       "      <td>7.0</td>\n",
       "      <td>8.0</td>\n",
       "    </tr>\n",
       "    <tr>\n",
       "      <th>29883594</th>\n",
       "      <td>3.0</td>\n",
       "      <td>5.0</td>\n",
       "    </tr>\n",
       "    <tr>\n",
       "      <th>17975358</th>\n",
       "      <td>4.0</td>\n",
       "      <td>3.0</td>\n",
       "    </tr>\n",
       "    <tr>\n",
       "      <th>30484287</th>\n",
       "      <td>22.0</td>\n",
       "      <td>9.0</td>\n",
       "    </tr>\n",
       "    <tr>\n",
       "      <th>30958615</th>\n",
       "      <td>14.0</td>\n",
       "      <td>7.0</td>\n",
       "    </tr>\n",
       "    <tr>\n",
       "      <th>20026215</th>\n",
       "      <td>7.0</td>\n",
       "      <td>7.0</td>\n",
       "    </tr>\n",
       "    <tr>\n",
       "      <th>1447469</th>\n",
       "      <td>NaN</td>\n",
       "      <td>22.0</td>\n",
       "    </tr>\n",
       "  </tbody>\n",
       "</table>\n",
       "</div>"
      ],
      "text/plain": [
       "          days_since_prior_order  median_frequency\n",
       "12763285                    27.0               7.0\n",
       "8017115                      4.0               4.0\n",
       "5528562                      8.0               7.0\n",
       "10225575                     7.0               8.0\n",
       "29883594                     3.0               5.0\n",
       "17975358                     4.0               3.0\n",
       "30484287                    22.0               9.0\n",
       "30958615                    14.0               7.0\n",
       "20026215                     7.0               7.0\n",
       "1447469                      NaN              22.0"
      ]
     },
     "execution_count": 18,
     "metadata": {},
     "output_type": "execute_result"
    }
   ],
   "source": [
    "# Check the sample output for relevant columns\n",
    "df_ords_prods_merged[['days_since_prior_order', 'median_frequency']].sample(10)"
   ]
  },
  {
   "cell_type": "code",
   "execution_count": 19,
   "id": "2549cc62",
   "metadata": {},
   "outputs": [],
   "source": [
    "# 3. Assign frequency flag based on 'median_frequency' value\n",
    "df_ords_prods_merged.loc[df_ords_prods_merged['median_frequency'] > 20, 'frequency_flag'] = 'Non-frequent customer'\n",
    "df_ords_prods_merged.loc[(df_ords_prods_merged['median_frequency'] <= 20) & (df_ords_prods_merged['median_frequency'] > 10), 'frequency_flag'] = 'Regular customer'\n",
    "df_ords_prods_merged.loc[df_ords_prods_merged['median_frequency'] <= 10, 'frequency_flag'] = 'Frequent customer'"
   ]
  },
  {
   "cell_type": "code",
   "execution_count": 20,
   "id": "57e1dd59",
   "metadata": {},
   "outputs": [
    {
     "data": {
      "text/plain": [
       "frequency_flag\n",
       "Frequent customer        21559853\n",
       "Regular customer          7208564\n",
       "Non-frequent customer     3636437\n",
       "nan                             5\n",
       "Name: count, dtype: int64"
      ]
     },
     "execution_count": 20,
     "metadata": {},
     "output_type": "execute_result"
    }
   ],
   "source": [
    "# Check frequencies of new column 'frequency_flag'\n",
    "df_ords_prods_merged['frequency_flag'].value_counts(dropna = False)"
   ]
  },
  {
   "cell_type": "code",
   "execution_count": 21,
   "id": "3a4b2eed",
   "metadata": {},
   "outputs": [
    {
     "data": {
      "text/plain": [
       "(32404859, 23)"
      ]
     },
     "execution_count": 21,
     "metadata": {},
     "output_type": "execute_result"
    }
   ],
   "source": [
    "df_ords_prods_merged.shape"
   ]
  },
  {
   "cell_type": "code",
   "execution_count": 25,
   "id": "4ced6b4c",
   "metadata": {},
   "outputs": [
    {
     "data": {
      "text/html": [
       "<div>\n",
       "<style scoped>\n",
       "    .dataframe tbody tr th:only-of-type {\n",
       "        vertical-align: middle;\n",
       "    }\n",
       "\n",
       "    .dataframe tbody tr th {\n",
       "        vertical-align: top;\n",
       "    }\n",
       "\n",
       "    .dataframe thead th {\n",
       "        text-align: right;\n",
       "    }\n",
       "</style>\n",
       "<table border=\"1\" class=\"dataframe\">\n",
       "  <thead>\n",
       "    <tr style=\"text-align: right;\">\n",
       "      <th></th>\n",
       "      <th>product_id</th>\n",
       "      <th>product_name</th>\n",
       "      <th>aisle_id</th>\n",
       "      <th>department_id</th>\n",
       "      <th>prices</th>\n",
       "      <th>order_id</th>\n",
       "      <th>user_id</th>\n",
       "      <th>order_number</th>\n",
       "      <th>orders_day_of_week</th>\n",
       "      <th>order_hour_of_day</th>\n",
       "      <th>...</th>\n",
       "      <th>_merge</th>\n",
       "      <th>price_range_loc</th>\n",
       "      <th>busiest_days</th>\n",
       "      <th>busiest_period_of_day</th>\n",
       "      <th>max_order</th>\n",
       "      <th>loyalty_flag</th>\n",
       "      <th>avg_price</th>\n",
       "      <th>spending_flag</th>\n",
       "      <th>median_frequency</th>\n",
       "      <th>frequency_flag</th>\n",
       "    </tr>\n",
       "  </thead>\n",
       "  <tbody>\n",
       "    <tr>\n",
       "      <th>6234909</th>\n",
       "      <td>10749</td>\n",
       "      <td>Organic Red Bell Pepper</td>\n",
       "      <td>83</td>\n",
       "      <td>4</td>\n",
       "      <td>5.7</td>\n",
       "      <td>895835</td>\n",
       "      <td>159838</td>\n",
       "      <td>1</td>\n",
       "      <td>0</td>\n",
       "      <td>17</td>\n",
       "      <td>...</td>\n",
       "      <td>both</td>\n",
       "      <td>Mid-range product</td>\n",
       "      <td>Busiest day</td>\n",
       "      <td>Average orders</td>\n",
       "      <td>1</td>\n",
       "      <td>New customer</td>\n",
       "      <td>7.42</td>\n",
       "      <td>Low spender</td>\n",
       "      <td>NaN</td>\n",
       "      <td>nan</td>\n",
       "    </tr>\n",
       "    <tr>\n",
       "      <th>12947653</th>\n",
       "      <td>21334</td>\n",
       "      <td>Organic Peeled Garlic</td>\n",
       "      <td>123</td>\n",
       "      <td>4</td>\n",
       "      <td>10.2</td>\n",
       "      <td>895835</td>\n",
       "      <td>159838</td>\n",
       "      <td>1</td>\n",
       "      <td>0</td>\n",
       "      <td>17</td>\n",
       "      <td>...</td>\n",
       "      <td>both</td>\n",
       "      <td>Mid-range product</td>\n",
       "      <td>Busiest day</td>\n",
       "      <td>Average orders</td>\n",
       "      <td>1</td>\n",
       "      <td>New customer</td>\n",
       "      <td>7.42</td>\n",
       "      <td>Low spender</td>\n",
       "      <td>NaN</td>\n",
       "      <td>nan</td>\n",
       "    </tr>\n",
       "    <tr>\n",
       "      <th>13839012</th>\n",
       "      <td>22198</td>\n",
       "      <td>4X Ultra Concentrated Natural Laundry Detergen...</td>\n",
       "      <td>75</td>\n",
       "      <td>17</td>\n",
       "      <td>1.7</td>\n",
       "      <td>895835</td>\n",
       "      <td>159838</td>\n",
       "      <td>1</td>\n",
       "      <td>0</td>\n",
       "      <td>17</td>\n",
       "      <td>...</td>\n",
       "      <td>both</td>\n",
       "      <td>Low-range product</td>\n",
       "      <td>Busiest day</td>\n",
       "      <td>Average orders</td>\n",
       "      <td>1</td>\n",
       "      <td>New customer</td>\n",
       "      <td>7.42</td>\n",
       "      <td>Low spender</td>\n",
       "      <td>NaN</td>\n",
       "      <td>nan</td>\n",
       "    </tr>\n",
       "    <tr>\n",
       "      <th>14758536</th>\n",
       "      <td>23695</td>\n",
       "      <td>California Veggie Burger</td>\n",
       "      <td>42</td>\n",
       "      <td>1</td>\n",
       "      <td>4.7</td>\n",
       "      <td>895835</td>\n",
       "      <td>159838</td>\n",
       "      <td>1</td>\n",
       "      <td>0</td>\n",
       "      <td>17</td>\n",
       "      <td>...</td>\n",
       "      <td>both</td>\n",
       "      <td>Low-range product</td>\n",
       "      <td>Busiest day</td>\n",
       "      <td>Average orders</td>\n",
       "      <td>1</td>\n",
       "      <td>New customer</td>\n",
       "      <td>7.42</td>\n",
       "      <td>Low spender</td>\n",
       "      <td>NaN</td>\n",
       "      <td>nan</td>\n",
       "    </tr>\n",
       "    <tr>\n",
       "      <th>21673807</th>\n",
       "      <td>33401</td>\n",
       "      <td>Goat Cheese Crumbles</td>\n",
       "      <td>21</td>\n",
       "      <td>16</td>\n",
       "      <td>14.8</td>\n",
       "      <td>895835</td>\n",
       "      <td>159838</td>\n",
       "      <td>1</td>\n",
       "      <td>0</td>\n",
       "      <td>17</td>\n",
       "      <td>...</td>\n",
       "      <td>both</td>\n",
       "      <td>Mid-range product</td>\n",
       "      <td>Busiest day</td>\n",
       "      <td>Average orders</td>\n",
       "      <td>1</td>\n",
       "      <td>New customer</td>\n",
       "      <td>7.42</td>\n",
       "      <td>Low spender</td>\n",
       "      <td>NaN</td>\n",
       "      <td>nan</td>\n",
       "    </tr>\n",
       "  </tbody>\n",
       "</table>\n",
       "<p>5 rows × 23 columns</p>\n",
       "</div>"
      ],
      "text/plain": [
       "          product_id                                       product_name  \\\n",
       "6234909        10749                            Organic Red Bell Pepper   \n",
       "12947653       21334                              Organic Peeled Garlic   \n",
       "13839012       22198  4X Ultra Concentrated Natural Laundry Detergen...   \n",
       "14758536       23695                           California Veggie Burger   \n",
       "21673807       33401                               Goat Cheese Crumbles   \n",
       "\n",
       "          aisle_id  department_id  prices  order_id  user_id  order_number  \\\n",
       "6234909         83              4     5.7    895835   159838             1   \n",
       "12947653       123              4    10.2    895835   159838             1   \n",
       "13839012        75             17     1.7    895835   159838             1   \n",
       "14758536        42              1     4.7    895835   159838             1   \n",
       "21673807        21             16    14.8    895835   159838             1   \n",
       "\n",
       "          orders_day_of_week  order_hour_of_day  ...  _merge  \\\n",
       "6234909                    0                 17  ...    both   \n",
       "12947653                   0                 17  ...    both   \n",
       "13839012                   0                 17  ...    both   \n",
       "14758536                   0                 17  ...    both   \n",
       "21673807                   0                 17  ...    both   \n",
       "\n",
       "            price_range_loc  busiest_days busiest_period_of_day max_order  \\\n",
       "6234909   Mid-range product   Busiest day        Average orders         1   \n",
       "12947653  Mid-range product   Busiest day        Average orders         1   \n",
       "13839012  Low-range product   Busiest day        Average orders         1   \n",
       "14758536  Low-range product   Busiest day        Average orders         1   \n",
       "21673807  Mid-range product   Busiest day        Average orders         1   \n",
       "\n",
       "          loyalty_flag avg_price  spending_flag median_frequency  \\\n",
       "6234909   New customer      7.42    Low spender              NaN   \n",
       "12947653  New customer      7.42    Low spender              NaN   \n",
       "13839012  New customer      7.42    Low spender              NaN   \n",
       "14758536  New customer      7.42    Low spender              NaN   \n",
       "21673807  New customer      7.42    Low spender              NaN   \n",
       "\n",
       "          frequency_flag  \n",
       "6234909              nan  \n",
       "12947653             nan  \n",
       "13839012             nan  \n",
       "14758536             nan  \n",
       "21673807             nan  \n",
       "\n",
       "[5 rows x 23 columns]"
      ]
     },
     "execution_count": 25,
     "metadata": {},
     "output_type": "execute_result"
    }
   ],
   "source": [
    "# Assign rows with missing values to df_nan and print the output\n",
    "df_nan = df_ords_prods_merged[(df_ords_prods_merged['frequency_flag'] == 'nan')]\n",
    "\n",
    "df_nan"
   ]
  },
  {
   "cell_type": "markdown",
   "id": "43812e31",
   "metadata": {},
   "source": [
    "#### *<mark>Note:</mark> The reason for NaN values may be customers who only placed one order.*"
   ]
  },
  {
   "cell_type": "markdown",
   "id": "7057d58d",
   "metadata": {},
   "source": [
    "# 4. Exporting data"
   ]
  },
  {
   "cell_type": "code",
   "execution_count": null,
   "id": "1d74bb88",
   "metadata": {},
   "outputs": [],
   "source": [
    "df_ords_prods_merged.shape"
   ]
  },
  {
   "cell_type": "code",
   "execution_count": null,
   "id": "f18194b5",
   "metadata": {},
   "outputs": [],
   "source": [
    "# Export df_ords_prods_merged as \"orders_products_merged(3).pkl\" \n",
    "df_ords_prods_merged.to_pickle(os.path.join(path, '02_Data', 'Prepared_data', 'orders_products_merged(3).pkl'))"
   ]
  }
 ],
 "metadata": {
  "kernelspec": {
   "display_name": "Python 3 (ipykernel)",
   "language": "python",
   "name": "python3"
  },
  "language_info": {
   "codemirror_mode": {
    "name": "ipython",
    "version": 3
   },
   "file_extension": ".py",
   "mimetype": "text/x-python",
   "name": "python",
   "nbconvert_exporter": "python",
   "pygments_lexer": "ipython3",
   "version": "3.11.5"
  }
 },
 "nbformat": 4,
 "nbformat_minor": 5
}
