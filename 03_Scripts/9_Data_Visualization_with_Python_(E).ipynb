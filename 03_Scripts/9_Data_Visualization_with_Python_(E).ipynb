{
 "cells": [
  {
   "cell_type": "markdown",
   "id": "9f0bfe52",
   "metadata": {},
   "source": [
    "**This script contains the following points:**\n",
    "\n",
    "    1. Importing libraries\n",
    "    2. Importing data\n",
    "    3. Visualizing data\n",
    "        3.1 Bar chart\n",
    "        3.2 Histogram\n",
    "        3.3 Scatterplot\n",
    "        3.4 Line chart\n",
    "            Split the dataframe\n",
    "            Create a line chart"
   ]
  },
  {
   "cell_type": "markdown",
   "id": "96c1dba8",
   "metadata": {},
   "source": [
    "# 1. Importing libraries"
   ]
  },
  {
   "cell_type": "code",
   "execution_count": 1,
   "id": "f7ba1b41",
   "metadata": {},
   "outputs": [],
   "source": [
    "# Import libraries\n",
    "import pandas as pd\n",
    "import numpy as np\n",
    "import os\n",
    "import matplotlib.pyplot as plt\n",
    "import seaborn as sns\n",
    "import scipy"
   ]
  },
  {
   "cell_type": "markdown",
   "id": "83b35be3",
   "metadata": {},
   "source": [
    "# 2. Importing data"
   ]
  },
  {
   "cell_type": "code",
   "execution_count": 2,
   "id": "6cc2915c",
   "metadata": {},
   "outputs": [],
   "source": [
    "# Turn project folder path into a string\n",
    "path = r'/Users/sarahtischer/Desktop/CareerFoundry/Data Immersion/Achievement 4/01-2024_Instacart_Basket_Analysis'"
   ]
  },
  {
   "cell_type": "code",
   "execution_count": 3,
   "id": "1c61c493",
   "metadata": {},
   "outputs": [],
   "source": [
    "# Import \"orders_products_merged(3).pkl\"\n",
    "df_ords_prods_merged = pd.read_pickle(os.path.join(path, '02_Data', 'Prepared_data', 'orders_products_merged(3).pkl'))"
   ]
  },
  {
   "cell_type": "code",
   "execution_count": 4,
   "id": "af6add96",
   "metadata": {},
   "outputs": [
    {
     "data": {
      "text/plain": [
       "(32404859, 23)"
      ]
     },
     "execution_count": 4,
     "metadata": {},
     "output_type": "execute_result"
    }
   ],
   "source": [
    "df_ords_prods_merged.shape"
   ]
  },
  {
   "cell_type": "markdown",
   "id": "ce371c64",
   "metadata": {},
   "source": [
    "# 3. Visualizing data"
   ]
  },
  {
   "cell_type": "markdown",
   "id": "273f6d73",
   "metadata": {},
   "source": [
    "## 3.1 Bar chart"
   ]
  },
  {
   "cell_type": "code",
   "execution_count": 5,
   "id": "0e01026b",
   "metadata": {},
   "outputs": [
    {
     "data": {
      "image/png": "[encoded data removed]",
      "text/plain": [
       "<Figure size 640x480 with 1 Axes>"
      ]
     },
     "metadata": {},
     "output_type": "display_data"
    }
   ],
   "source": [
    "# Create a bar chart\n",
    "bar = df_ords_prods_merged['orders_day_of_week'].value_counts().plot.bar()"
   ]
  },
  {
   "cell_type": "markdown",
   "id": "0545a940",
   "metadata": {},
   "source": [
    "## 3.2 Histogram"
   ]
  },
  {
   "cell_type": "code",
   "execution_count": 6,
   "id": "a71a136d",
   "metadata": {},
   "outputs": [
    {
     "data": {
      "text/html": [
       "<div>\n",
       "<style scoped>\n",
       "    .dataframe tbody tr th:only-of-type {\n",
       "        vertical-align: middle;\n",
       "    }\n",
       "\n",
       "    .dataframe tbody tr th {\n",
       "        vertical-align: top;\n",
       "    }\n",
       "\n",
       "    .dataframe thead th {\n",
       "        text-align: right;\n",
       "    }\n",
       "</style>\n",
       "<table border=\"1\" class=\"dataframe\">\n",
       "  <thead>\n",
       "    <tr style=\"text-align: right;\">\n",
       "      <th></th>\n",
       "      <th>product_id</th>\n",
       "      <th>product_name</th>\n",
       "      <th>aisle_id</th>\n",
       "      <th>department_id</th>\n",
       "      <th>prices</th>\n",
       "      <th>order_id</th>\n",
       "      <th>user_id</th>\n",
       "      <th>order_number</th>\n",
       "      <th>orders_day_of_week</th>\n",
       "      <th>order_hour_of_day</th>\n",
       "      <th>...</th>\n",
       "      <th>_merge</th>\n",
       "      <th>price_range_loc</th>\n",
       "      <th>busiest_days</th>\n",
       "      <th>busiest_period_of_day</th>\n",
       "      <th>max_order</th>\n",
       "      <th>loyalty_flag</th>\n",
       "      <th>avg_price</th>\n",
       "      <th>spending_flag</th>\n",
       "      <th>median_frequency</th>\n",
       "      <th>frequency_flag</th>\n",
       "    </tr>\n",
       "  </thead>\n",
       "  <tbody>\n",
       "    <tr>\n",
       "      <th>13100147</th>\n",
       "      <td>21553</td>\n",
       "      <td>Lowfat 2% Milkfat Cottage Cheese</td>\n",
       "      <td>108</td>\n",
       "      <td>16</td>\n",
       "      <td>14900.0</td>\n",
       "      <td>912404</td>\n",
       "      <td>17</td>\n",
       "      <td>12</td>\n",
       "      <td>2</td>\n",
       "      <td>14</td>\n",
       "      <td>...</td>\n",
       "      <td>both</td>\n",
       "      <td>High-range product</td>\n",
       "      <td>Regularly busy</td>\n",
       "      <td>Most orders</td>\n",
       "      <td>40</td>\n",
       "      <td>Regular customer</td>\n",
       "      <td>108.648299</td>\n",
       "      <td>High spender</td>\n",
       "      <td>5.0</td>\n",
       "      <td>Frequent customer</td>\n",
       "    </tr>\n",
       "    <tr>\n",
       "      <th>13100148</th>\n",
       "      <td>21553</td>\n",
       "      <td>Lowfat 2% Milkfat Cottage Cheese</td>\n",
       "      <td>108</td>\n",
       "      <td>16</td>\n",
       "      <td>14900.0</td>\n",
       "      <td>603376</td>\n",
       "      <td>17</td>\n",
       "      <td>22</td>\n",
       "      <td>6</td>\n",
       "      <td>16</td>\n",
       "      <td>...</td>\n",
       "      <td>both</td>\n",
       "      <td>High-range product</td>\n",
       "      <td>Regularly busy</td>\n",
       "      <td>Most orders</td>\n",
       "      <td>40</td>\n",
       "      <td>Regular customer</td>\n",
       "      <td>108.648299</td>\n",
       "      <td>High spender</td>\n",
       "      <td>5.0</td>\n",
       "      <td>Frequent customer</td>\n",
       "    </tr>\n",
       "    <tr>\n",
       "      <th>13100149</th>\n",
       "      <td>21553</td>\n",
       "      <td>Lowfat 2% Milkfat Cottage Cheese</td>\n",
       "      <td>108</td>\n",
       "      <td>16</td>\n",
       "      <td>14900.0</td>\n",
       "      <td>3264360</td>\n",
       "      <td>135</td>\n",
       "      <td>2</td>\n",
       "      <td>2</td>\n",
       "      <td>21</td>\n",
       "      <td>...</td>\n",
       "      <td>both</td>\n",
       "      <td>High-range product</td>\n",
       "      <td>Regularly busy</td>\n",
       "      <td>Average orders</td>\n",
       "      <td>4</td>\n",
       "      <td>New customer</td>\n",
       "      <td>1154.792308</td>\n",
       "      <td>High spender</td>\n",
       "      <td>12.0</td>\n",
       "      <td>Regular customer</td>\n",
       "    </tr>\n",
       "    <tr>\n",
       "      <th>13100150</th>\n",
       "      <td>21553</td>\n",
       "      <td>Lowfat 2% Milkfat Cottage Cheese</td>\n",
       "      <td>108</td>\n",
       "      <td>16</td>\n",
       "      <td>14900.0</td>\n",
       "      <td>892534</td>\n",
       "      <td>135</td>\n",
       "      <td>3</td>\n",
       "      <td>0</td>\n",
       "      <td>8</td>\n",
       "      <td>...</td>\n",
       "      <td>both</td>\n",
       "      <td>High-range product</td>\n",
       "      <td>Busiest day</td>\n",
       "      <td>Average orders</td>\n",
       "      <td>4</td>\n",
       "      <td>New customer</td>\n",
       "      <td>1154.792308</td>\n",
       "      <td>High spender</td>\n",
       "      <td>12.0</td>\n",
       "      <td>Regular customer</td>\n",
       "    </tr>\n",
       "    <tr>\n",
       "      <th>13100151</th>\n",
       "      <td>21553</td>\n",
       "      <td>Lowfat 2% Milkfat Cottage Cheese</td>\n",
       "      <td>108</td>\n",
       "      <td>16</td>\n",
       "      <td>14900.0</td>\n",
       "      <td>229704</td>\n",
       "      <td>342</td>\n",
       "      <td>8</td>\n",
       "      <td>1</td>\n",
       "      <td>19</td>\n",
       "      <td>...</td>\n",
       "      <td>both</td>\n",
       "      <td>High-range product</td>\n",
       "      <td>Busiest day</td>\n",
       "      <td>Average orders</td>\n",
       "      <td>16</td>\n",
       "      <td>Regular customer</td>\n",
       "      <td>114.426619</td>\n",
       "      <td>High spender</td>\n",
       "      <td>23.0</td>\n",
       "      <td>Non-frequent customer</td>\n",
       "    </tr>\n",
       "    <tr>\n",
       "      <th>...</th>\n",
       "      <td>...</td>\n",
       "      <td>...</td>\n",
       "      <td>...</td>\n",
       "      <td>...</td>\n",
       "      <td>...</td>\n",
       "      <td>...</td>\n",
       "      <td>...</td>\n",
       "      <td>...</td>\n",
       "      <td>...</td>\n",
       "      <td>...</td>\n",
       "      <td>...</td>\n",
       "      <td>...</td>\n",
       "      <td>...</td>\n",
       "      <td>...</td>\n",
       "      <td>...</td>\n",
       "      <td>...</td>\n",
       "      <td>...</td>\n",
       "      <td>...</td>\n",
       "      <td>...</td>\n",
       "      <td>...</td>\n",
       "      <td>...</td>\n",
       "    </tr>\n",
       "    <tr>\n",
       "      <th>21786876</th>\n",
       "      <td>33664</td>\n",
       "      <td>2 % Reduced Fat  Milk</td>\n",
       "      <td>84</td>\n",
       "      <td>16</td>\n",
       "      <td>99999.0</td>\n",
       "      <td>2249946</td>\n",
       "      <td>204099</td>\n",
       "      <td>29</td>\n",
       "      <td>0</td>\n",
       "      <td>8</td>\n",
       "      <td>...</td>\n",
       "      <td>both</td>\n",
       "      <td>High-range product</td>\n",
       "      <td>Busiest day</td>\n",
       "      <td>Average orders</td>\n",
       "      <td>39</td>\n",
       "      <td>Regular customer</td>\n",
       "      <td>1106.743956</td>\n",
       "      <td>High spender</td>\n",
       "      <td>4.0</td>\n",
       "      <td>Frequent customer</td>\n",
       "    </tr>\n",
       "    <tr>\n",
       "      <th>21786877</th>\n",
       "      <td>33664</td>\n",
       "      <td>2 % Reduced Fat  Milk</td>\n",
       "      <td>84</td>\n",
       "      <td>16</td>\n",
       "      <td>99999.0</td>\n",
       "      <td>2363282</td>\n",
       "      <td>204099</td>\n",
       "      <td>31</td>\n",
       "      <td>0</td>\n",
       "      <td>9</td>\n",
       "      <td>...</td>\n",
       "      <td>both</td>\n",
       "      <td>High-range product</td>\n",
       "      <td>Busiest day</td>\n",
       "      <td>Most orders</td>\n",
       "      <td>39</td>\n",
       "      <td>Regular customer</td>\n",
       "      <td>1106.743956</td>\n",
       "      <td>High spender</td>\n",
       "      <td>4.0</td>\n",
       "      <td>Frequent customer</td>\n",
       "    </tr>\n",
       "    <tr>\n",
       "      <th>21786878</th>\n",
       "      <td>33664</td>\n",
       "      <td>2 % Reduced Fat  Milk</td>\n",
       "      <td>84</td>\n",
       "      <td>16</td>\n",
       "      <td>99999.0</td>\n",
       "      <td>3181945</td>\n",
       "      <td>204395</td>\n",
       "      <td>13</td>\n",
       "      <td>3</td>\n",
       "      <td>15</td>\n",
       "      <td>...</td>\n",
       "      <td>both</td>\n",
       "      <td>High-range product</td>\n",
       "      <td>Least busy</td>\n",
       "      <td>Most orders</td>\n",
       "      <td>15</td>\n",
       "      <td>Regular customer</td>\n",
       "      <td>451.153540</td>\n",
       "      <td>High spender</td>\n",
       "      <td>5.0</td>\n",
       "      <td>Frequent customer</td>\n",
       "    </tr>\n",
       "    <tr>\n",
       "      <th>21786879</th>\n",
       "      <td>33664</td>\n",
       "      <td>2 % Reduced Fat  Milk</td>\n",
       "      <td>84</td>\n",
       "      <td>16</td>\n",
       "      <td>99999.0</td>\n",
       "      <td>2486215</td>\n",
       "      <td>205227</td>\n",
       "      <td>7</td>\n",
       "      <td>3</td>\n",
       "      <td>20</td>\n",
       "      <td>...</td>\n",
       "      <td>both</td>\n",
       "      <td>High-range product</td>\n",
       "      <td>Least busy</td>\n",
       "      <td>Average orders</td>\n",
       "      <td>12</td>\n",
       "      <td>Regular customer</td>\n",
       "      <td>1178.381871</td>\n",
       "      <td>High spender</td>\n",
       "      <td>12.0</td>\n",
       "      <td>Regular customer</td>\n",
       "    </tr>\n",
       "    <tr>\n",
       "      <th>21786880</th>\n",
       "      <td>33664</td>\n",
       "      <td>2 % Reduced Fat  Milk</td>\n",
       "      <td>84</td>\n",
       "      <td>16</td>\n",
       "      <td>99999.0</td>\n",
       "      <td>2232716</td>\n",
       "      <td>205227</td>\n",
       "      <td>10</td>\n",
       "      <td>0</td>\n",
       "      <td>11</td>\n",
       "      <td>...</td>\n",
       "      <td>both</td>\n",
       "      <td>High-range product</td>\n",
       "      <td>Busiest day</td>\n",
       "      <td>Most orders</td>\n",
       "      <td>12</td>\n",
       "      <td>Regular customer</td>\n",
       "      <td>1178.381871</td>\n",
       "      <td>High spender</td>\n",
       "      <td>12.0</td>\n",
       "      <td>Regular customer</td>\n",
       "    </tr>\n",
       "  </tbody>\n",
       "</table>\n",
       "<p>5127 rows × 23 columns</p>\n",
       "</div>"
      ],
      "text/plain": [
       "          product_id                      product_name  aisle_id  \\\n",
       "13100147       21553  Lowfat 2% Milkfat Cottage Cheese       108   \n",
       "13100148       21553  Lowfat 2% Milkfat Cottage Cheese       108   \n",
       "13100149       21553  Lowfat 2% Milkfat Cottage Cheese       108   \n",
       "13100150       21553  Lowfat 2% Milkfat Cottage Cheese       108   \n",
       "13100151       21553  Lowfat 2% Milkfat Cottage Cheese       108   \n",
       "...              ...                               ...       ...   \n",
       "21786876       33664             2 % Reduced Fat  Milk        84   \n",
       "21786877       33664             2 % Reduced Fat  Milk        84   \n",
       "21786878       33664             2 % Reduced Fat  Milk        84   \n",
       "21786879       33664             2 % Reduced Fat  Milk        84   \n",
       "21786880       33664             2 % Reduced Fat  Milk        84   \n",
       "\n",
       "          department_id   prices  order_id  user_id  order_number  \\\n",
       "13100147             16  14900.0    912404       17            12   \n",
       "13100148             16  14900.0    603376       17            22   \n",
       "13100149             16  14900.0   3264360      135             2   \n",
       "13100150             16  14900.0    892534      135             3   \n",
       "13100151             16  14900.0    229704      342             8   \n",
       "...                 ...      ...       ...      ...           ...   \n",
       "21786876             16  99999.0   2249946   204099            29   \n",
       "21786877             16  99999.0   2363282   204099            31   \n",
       "21786878             16  99999.0   3181945   204395            13   \n",
       "21786879             16  99999.0   2486215   205227             7   \n",
       "21786880             16  99999.0   2232716   205227            10   \n",
       "\n",
       "          orders_day_of_week  order_hour_of_day  ...  _merge  \\\n",
       "13100147                   2                 14  ...    both   \n",
       "13100148                   6                 16  ...    both   \n",
       "13100149                   2                 21  ...    both   \n",
       "13100150                   0                  8  ...    both   \n",
       "13100151                   1                 19  ...    both   \n",
       "...                      ...                ...  ...     ...   \n",
       "21786876                   0                  8  ...    both   \n",
       "21786877                   0                  9  ...    both   \n",
       "21786878                   3                 15  ...    both   \n",
       "21786879                   3                 20  ...    both   \n",
       "21786880                   0                 11  ...    both   \n",
       "\n",
       "             price_range_loc    busiest_days busiest_period_of_day max_order  \\\n",
       "13100147  High-range product  Regularly busy           Most orders        40   \n",
       "13100148  High-range product  Regularly busy           Most orders        40   \n",
       "13100149  High-range product  Regularly busy        Average orders         4   \n",
       "13100150  High-range product     Busiest day        Average orders         4   \n",
       "13100151  High-range product     Busiest day        Average orders        16   \n",
       "...                      ...             ...                   ...       ...   \n",
       "21786876  High-range product     Busiest day        Average orders        39   \n",
       "21786877  High-range product     Busiest day           Most orders        39   \n",
       "21786878  High-range product      Least busy           Most orders        15   \n",
       "21786879  High-range product      Least busy        Average orders        12   \n",
       "21786880  High-range product     Busiest day           Most orders        12   \n",
       "\n",
       "              loyalty_flag    avg_price  spending_flag median_frequency  \\\n",
       "13100147  Regular customer   108.648299   High spender              5.0   \n",
       "13100148  Regular customer   108.648299   High spender              5.0   \n",
       "13100149      New customer  1154.792308   High spender             12.0   \n",
       "13100150      New customer  1154.792308   High spender             12.0   \n",
       "13100151  Regular customer   114.426619   High spender             23.0   \n",
       "...                    ...          ...            ...              ...   \n",
       "21786876  Regular customer  1106.743956   High spender              4.0   \n",
       "21786877  Regular customer  1106.743956   High spender              4.0   \n",
       "21786878  Regular customer   451.153540   High spender              5.0   \n",
       "21786879  Regular customer  1178.381871   High spender             12.0   \n",
       "21786880  Regular customer  1178.381871   High spender             12.0   \n",
       "\n",
       "                 frequency_flag  \n",
       "13100147      Frequent customer  \n",
       "13100148      Frequent customer  \n",
       "13100149       Regular customer  \n",
       "13100150       Regular customer  \n",
       "13100151  Non-frequent customer  \n",
       "...                         ...  \n",
       "21786876      Frequent customer  \n",
       "21786877      Frequent customer  \n",
       "21786878      Frequent customer  \n",
       "21786879       Regular customer  \n",
       "21786880       Regular customer  \n",
       "\n",
       "[5127 rows x 23 columns]"
      ]
     },
     "execution_count": 6,
     "metadata": {},
     "output_type": "execute_result"
    }
   ],
   "source": [
    "# Locate outliers\n",
    "df_ords_prods_merged.loc[df_ords_prods_merged['prices'] > 100]"
   ]
  },
  {
   "cell_type": "code",
   "execution_count": 7,
   "id": "fe3aae2c",
   "metadata": {},
   "outputs": [],
   "source": [
    "# Mark outliers NaN\n",
    "df_ords_prods_merged.loc[df_ords_prods_merged['prices'] > 100, 'prices'] = np.nan"
   ]
  },
  {
   "cell_type": "code",
   "execution_count": 8,
   "id": "493e714a",
   "metadata": {},
   "outputs": [
    {
     "data": {
      "text/plain": [
       "25.0"
      ]
     },
     "execution_count": 8,
     "metadata": {},
     "output_type": "execute_result"
    }
   ],
   "source": [
    "# Check the output\n",
    "df_ords_prods_merged['prices'].max()"
   ]
  },
  {
   "cell_type": "code",
   "execution_count": 9,
   "id": "4d7d9675",
   "metadata": {},
   "outputs": [
    {
     "data": {
      "text/plain": [
       "(32404859, 23)"
      ]
     },
     "execution_count": 9,
     "metadata": {},
     "output_type": "execute_result"
    }
   ],
   "source": [
    "df_ords_prods_merged.shape"
   ]
  },
  {
   "cell_type": "code",
   "execution_count": 10,
   "id": "979b1d27",
   "metadata": {
    "scrolled": true
   },
   "outputs": [
    {
     "data": {
      "image/png": "[encoded data removed]",
      "text/plain": [
       "<Figure size 640x480 with 1 Axes>"
      ]
     },
     "metadata": {},
     "output_type": "display_data"
    }
   ],
   "source": [
    "# Create a histogram\n",
    "hist = df_ords_prods_merged['prices'].plot.hist(bins = 25)"
   ]
  },
  {
   "cell_type": "code",
   "execution_count": 11,
   "id": "f556989d",
   "metadata": {
    "scrolled": true
   },
   "outputs": [
    {
     "data": {
      "image/png": "[encoded data removed]",
      "text/plain": [
       "<Figure size 640x480 with 1 Axes>"
      ]
     },
     "metadata": {},
     "output_type": "display_data"
    }
   ],
   "source": [
    "hist_2 = df_ords_prods_merged['prices'].plot.hist(bins = 70)"
   ]
  },
  {
   "cell_type": "code",
   "execution_count": 12,
   "id": "55607f00",
   "metadata": {},
   "outputs": [],
   "source": [
    "# Export histogram\n",
    "hist.figure.savefig(os.path.join(path, '04_Analysis','Visualizations', '9_hist_prods_prices.png'))"
   ]
  },
  {
   "cell_type": "markdown",
   "id": "543f6121",
   "metadata": {},
   "source": [
    "## 3.3 Scatterplot"
   ]
  },
  {
   "cell_type": "code",
   "execution_count": 13,
   "id": "027a78e8",
   "metadata": {
    "scrolled": true
   },
   "outputs": [
    {
     "data": {
      "image/png": "[encoded data removed]",
      "text/plain": [
       "<Figure size 640x480 with 1 Axes>"
      ]
     },
     "metadata": {},
     "output_type": "display_data"
    }
   ],
   "source": [
    "# Create a scatterplot\n",
    "scat = sns.scatterplot(x = 'prices', y = 'prices', data = df_ords_prods_merged)"
   ]
  },
  {
   "cell_type": "markdown",
   "id": "e5d3fd70",
   "metadata": {},
   "source": [
    "## 3.4 Line chart"
   ]
  },
  {
   "cell_type": "markdown",
   "id": "09284786",
   "metadata": {},
   "source": [
    "### Split the dataframe"
   ]
  },
  {
   "cell_type": "code",
   "execution_count": 14,
   "id": "456c0d68",
   "metadata": {},
   "outputs": [],
   "source": [
    "# Create a sample set at 70/30 ratio\n",
    "np.random.seed(4)\n",
    "dev = np.random.rand(len(df_ords_prods_merged)) <= 0.7"
   ]
  },
  {
   "cell_type": "code",
   "execution_count": 15,
   "id": "5bc86bc0",
   "metadata": {},
   "outputs": [],
   "source": [
    "# Store 70% of the sample in the dataframe big\n",
    "big = df_ords_prods_merged[dev]"
   ]
  },
  {
   "cell_type": "code",
   "execution_count": 16,
   "id": "e5b28a43",
   "metadata": {},
   "outputs": [],
   "source": [
    "# Store 30% of the sample in the dataframe small\n",
    "small = df_ords_prods_merged[~dev]"
   ]
  },
  {
   "cell_type": "code",
   "execution_count": 17,
   "id": "e292abbe",
   "metadata": {},
   "outputs": [
    {
     "data": {
      "text/plain": [
       "32404859"
      ]
     },
     "execution_count": 17,
     "metadata": {},
     "output_type": "execute_result"
    }
   ],
   "source": [
    "# Check the output\n",
    "len(df_ords_prods_merged)"
   ]
  },
  {
   "cell_type": "code",
   "execution_count": 18,
   "id": "7bd312ae",
   "metadata": {},
   "outputs": [
    {
     "data": {
      "text/plain": [
       "32404859"
      ]
     },
     "execution_count": 18,
     "metadata": {},
     "output_type": "execute_result"
    }
   ],
   "source": [
    "len(big) + len(small)"
   ]
  },
  {
   "cell_type": "code",
   "execution_count": 19,
   "id": "b4db3fd7",
   "metadata": {},
   "outputs": [],
   "source": [
    "# Create subset of dataframe small\n",
    "small_sub = small[['orders_day_of_week','prices']]"
   ]
  },
  {
   "cell_type": "code",
   "execution_count": 20,
   "id": "5b22b5a2",
   "metadata": {},
   "outputs": [
    {
     "data": {
      "text/html": [
       "<div>\n",
       "<style scoped>\n",
       "    .dataframe tbody tr th:only-of-type {\n",
       "        vertical-align: middle;\n",
       "    }\n",
       "\n",
       "    .dataframe tbody tr th {\n",
       "        vertical-align: top;\n",
       "    }\n",
       "\n",
       "    .dataframe thead th {\n",
       "        text-align: right;\n",
       "    }\n",
       "</style>\n",
       "<table border=\"1\" class=\"dataframe\">\n",
       "  <thead>\n",
       "    <tr style=\"text-align: right;\">\n",
       "      <th></th>\n",
       "      <th>orders_day_of_week</th>\n",
       "      <th>prices</th>\n",
       "    </tr>\n",
       "  </thead>\n",
       "  <tbody>\n",
       "    <tr>\n",
       "      <th>0</th>\n",
       "      <td>6</td>\n",
       "      <td>5.8</td>\n",
       "    </tr>\n",
       "    <tr>\n",
       "      <th>2</th>\n",
       "      <td>0</td>\n",
       "      <td>5.8</td>\n",
       "    </tr>\n",
       "    <tr>\n",
       "      <th>3</th>\n",
       "      <td>3</td>\n",
       "      <td>5.8</td>\n",
       "    </tr>\n",
       "    <tr>\n",
       "      <th>6</th>\n",
       "      <td>2</td>\n",
       "      <td>5.8</td>\n",
       "    </tr>\n",
       "    <tr>\n",
       "      <th>10</th>\n",
       "      <td>5</td>\n",
       "      <td>5.8</td>\n",
       "    </tr>\n",
       "  </tbody>\n",
       "</table>\n",
       "</div>"
      ],
      "text/plain": [
       "    orders_day_of_week  prices\n",
       "0                    6     5.8\n",
       "2                    0     5.8\n",
       "3                    3     5.8\n",
       "6                    2     5.8\n",
       "10                   5     5.8"
      ]
     },
     "execution_count": 20,
     "metadata": {},
     "output_type": "execute_result"
    }
   ],
   "source": [
    "# Check the output\n",
    "small_sub.head()"
   ]
  },
  {
   "cell_type": "markdown",
   "id": "d30d4729",
   "metadata": {},
   "source": [
    "### Create a line chart"
   ]
  },
  {
   "cell_type": "code",
   "execution_count": 21,
   "id": "7b2f9953",
   "metadata": {},
   "outputs": [
    {
     "name": "stderr",
     "output_type": "stream",
     "text": [
      "/Users/sarahtischer/anaconda3/lib/python3.11/site-packages/seaborn/_oldcore.py:1119: FutureWarning: use_inf_as_na option is deprecated and will be removed in a future version. Convert inf values to NaN before operating instead.\n",
      "  with pd.option_context('mode.use_inf_as_na', True):\n",
      "/Users/sarahtischer/anaconda3/lib/python3.11/site-packages/seaborn/_oldcore.py:1119: FutureWarning: use_inf_as_na option is deprecated and will be removed in a future version. Convert inf values to NaN before operating instead.\n",
      "  with pd.option_context('mode.use_inf_as_na', True):\n"
     ]
    },
    {
     "data": {
      "image/png": "[encoded data removed]",
      "text/plain": [
       "<Figure size 640x480 with 1 Axes>"
      ]
     },
     "metadata": {},
     "output_type": "display_data"
    }
   ],
   "source": [
    "# Create a line chart\n",
    "line = sns.lineplot(data = small_sub, x = 'orders_day_of_week', y = 'prices')"
   ]
  }
 ],
 "metadata": {
  "kernelspec": {
   "display_name": "Python 3 (ipykernel)",
   "language": "python",
   "name": "python3"
  },
  "language_info": {
   "codemirror_mode": {
    "name": "ipython",
    "version": 3
   },
   "file_extension": ".py",
   "mimetype": "text/x-python",
   "name": "python",
   "nbconvert_exporter": "python",
   "pygments_lexer": "ipython3",
   "version": "3.11.5"
  }
 },
 "nbformat": 4,
 "nbformat_minor": 5
}
