{
 "cells": [
  {
   "cell_type": "markdown",
   "id": "4894f743",
   "metadata": {},
   "source": [
    "**This script contains the following points:**\n",
    "\n",
    "1. Importing libraries\n",
    "2. Data types\n",
    "    - Question 7 - Code 3 different ways of reaching a result of 100 by adding or subtracting numeric variables.\n",
    "    - Question 8 - Code 2 floating-point variables and divide them by each other.\n",
    "    - Question 9 - Construct a short word made of separate strings.\n",
    "    - Question 10 - Construct 2 short sentences made of separate strings.\n",
    "    - Bonus - Include a command that makes a string appear 100 times."
   ]
  },
  {
   "cell_type": "markdown",
   "id": "79c099d0",
   "metadata": {},
   "source": [
    "# 01. Importing libraries"
   ]
  },
  {
   "cell_type": "code",
   "execution_count": 1,
   "id": "1e8087e8",
   "metadata": {},
   "outputs": [],
   "source": [
    "# Importing libraries\n",
    "import pandas as pd\n",
    "import numpy as np\n",
    "import os"
   ]
  },
  {
   "cell_type": "markdown",
   "id": "87613b1b",
   "metadata": {},
   "source": [
    "# 02. Data types"
   ]
  },
  {
   "cell_type": "markdown",
   "id": "eea929ce",
   "metadata": {},
   "source": [
    "#### *Question 7 - Code 3 different ways of reaching a result of 100 by adding or subtracting numeric variables.*"
   ]
  },
  {
   "cell_type": "code",
   "execution_count": 2,
   "id": "bbd6f9b6",
   "metadata": {},
   "outputs": [],
   "source": [
    "# Defining variables\n",
    "x = 50\n",
    "y = 30\n",
    "z = 20"
   ]
  },
  {
   "cell_type": "code",
   "execution_count": 3,
   "id": "e5f8f3b8",
   "metadata": {},
   "outputs": [
    {
     "data": {
      "text/plain": [
       "100"
      ]
     },
     "execution_count": 3,
     "metadata": {},
     "output_type": "execute_result"
    }
   ],
   "source": [
    "# First option\n",
    "x + y + z"
   ]
  },
  {
   "cell_type": "code",
   "execution_count": 4,
   "id": "40519310",
   "metadata": {},
   "outputs": [
    {
     "data": {
      "text/plain": [
       "100"
      ]
     },
     "execution_count": 4,
     "metadata": {},
     "output_type": "execute_result"
    }
   ],
   "source": [
    "# Second option\n",
    "x * 3 - x"
   ]
  },
  {
   "cell_type": "code",
   "execution_count": 5,
   "id": "1ca5f0e0",
   "metadata": {},
   "outputs": [
    {
     "data": {
      "text/plain": [
       "100"
      ]
     },
     "execution_count": 5,
     "metadata": {},
     "output_type": "execute_result"
    }
   ],
   "source": [
    "# Third option\n",
    "n = y * 4\n",
    "n - z"
   ]
  },
  {
   "cell_type": "markdown",
   "id": "b6a6340a",
   "metadata": {},
   "source": [
    "#### *Question 8 - Code 2 floating-point variables and divide them by each other.*"
   ]
  },
  {
   "cell_type": "code",
   "execution_count": 6,
   "id": "5c94f65d",
   "metadata": {},
   "outputs": [
    {
     "data": {
      "text/plain": [
       "1.6732669694144535"
      ]
     },
     "execution_count": 6,
     "metadata": {},
     "output_type": "execute_result"
    }
   ],
   "source": [
    "x = 4.98765\n",
    "y = 8.34567\n",
    "\n",
    "y / x"
   ]
  },
  {
   "cell_type": "markdown",
   "id": "4f0d7069",
   "metadata": {},
   "source": [
    "#### *Question 9 - Construct a short word made of separate strings.*"
   ]
  },
  {
   "cell_type": "code",
   "execution_count": 7,
   "id": "11a72dc6",
   "metadata": {},
   "outputs": [
    {
     "data": {
      "text/plain": [
       "'Sarah'"
      ]
     },
     "execution_count": 7,
     "metadata": {},
     "output_type": "execute_result"
    }
   ],
   "source": [
    "# First option\n",
    "'Sa' + 'r' + 'ah'"
   ]
  },
  {
   "cell_type": "code",
   "execution_count": 8,
   "id": "7e7a9adc",
   "metadata": {},
   "outputs": [
    {
     "data": {
      "text/plain": [
       "'Python'"
      ]
     },
     "execution_count": 8,
     "metadata": {},
     "output_type": "execute_result"
    }
   ],
   "source": [
    "# Second option\n",
    "a = 'Py'\n",
    "b = 'th'\n",
    "c = 'on'\n",
    "\n",
    "a + b + c"
   ]
  },
  {
   "cell_type": "markdown",
   "id": "56c0e408",
   "metadata": {},
   "source": [
    "#### *Question 10 - Construct 2 short sentences made of separate strings.*"
   ]
  },
  {
   "cell_type": "code",
   "execution_count": 9,
   "id": "707654e2",
   "metadata": {},
   "outputs": [
    {
     "name": "stdout",
     "output_type": "stream",
     "text": [
      "Hello world, Sarah is learning Python!\n"
     ]
    }
   ],
   "source": [
    "# First sentence\n",
    "a = 'Hello world,'\n",
    "b = 'Sarah'\n",
    "c = 'is learning Python'\n",
    "space = ' '\n",
    "punct = '!'\n",
    "\n",
    "first_sentence = a + space + b + space + c + punct\n",
    "print(first_sentence)"
   ]
  },
  {
   "cell_type": "code",
   "execution_count": 10,
   "id": "3d5c2ace",
   "metadata": {},
   "outputs": [
    {
     "name": "stdout",
     "output_type": "stream",
     "text": [
      "She thinks it's fun!\n"
     ]
    }
   ],
   "source": [
    "# Second sentence\n",
    "e = 'She'\n",
    "f = 'thinks'\n",
    "g = 'it\\'s'\n",
    "h = 'fun'\n",
    "\n",
    "second_sentence = e + space + f + space + g + space + h + punct\n",
    "print(second_sentence)"
   ]
  },
  {
   "cell_type": "code",
   "execution_count": 11,
   "id": "140003ab",
   "metadata": {},
   "outputs": [
    {
     "name": "stdout",
     "output_type": "stream",
     "text": [
      "Hello world, Sarah is learning Python! She thinks it's fun!\n"
     ]
    }
   ],
   "source": [
    "# Making it a message\n",
    "message = first_sentence + space + second_sentence\n",
    "print(message)"
   ]
  },
  {
   "cell_type": "markdown",
   "id": "1c880c95",
   "metadata": {},
   "source": [
    "#### *Bonus - Include a command that makes a string appear 100 times.*"
   ]
  },
  {
   "cell_type": "code",
   "execution_count": 12,
   "id": "12c7a33e",
   "metadata": {},
   "outputs": [
    {
     "data": {
      "text/plain": [
       "'SarahSarahSarahSarahSarahSarahSarahSarahSarahSarahSarahSarahSarahSarahSarahSarahSarahSarahSarahSarahSarahSarahSarahSarahSarahSarahSarahSarahSarahSarahSarahSarahSarahSarahSarahSarahSarahSarahSarahSarahSarahSarahSarahSarahSarahSarahSarahSarahSarahSarahSarahSarahSarahSarahSarahSarahSarahSarahSarahSarahSarahSarahSarahSarahSarahSarahSarahSarahSarahSarahSarahSarahSarahSarahSarahSarahSarahSarahSarahSarahSarahSarahSarahSarahSarahSarahSarahSarahSarahSarahSarahSarahSarahSarahSarahSarahSarahSarahSarahSarah'"
      ]
     },
     "execution_count": 12,
     "metadata": {},
     "output_type": "execute_result"
    }
   ],
   "source": [
    "# Variable b from first sentence in Question 10.\n",
    "string = b  \n",
    "string * 100"
   ]
  }
 ],
 "metadata": {
  "kernelspec": {
   "display_name": "Python 3 (ipykernel)",
   "language": "python",
   "name": "python3"
  },
  "language_info": {
   "codemirror_mode": {
    "name": "ipython",
    "version": 3
   },
   "file_extension": ".py",
   "mimetype": "text/x-python",
   "name": "python",
   "nbconvert_exporter": "python",
   "pygments_lexer": "ipython3",
   "version": "3.11.5"
  }
 },
 "nbformat": 4,
 "nbformat_minor": 5
}
