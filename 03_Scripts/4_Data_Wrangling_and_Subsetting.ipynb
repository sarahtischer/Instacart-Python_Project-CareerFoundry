{
 "cells": [
  {
   "cell_type": "markdown",
   "id": "1dfb4578",
   "metadata": {},
   "source": [
    "**This script contains the following points:**\n",
    "\n",
    "1. Importing libraries\n",
    "2. Importing data\n",
    "3. Data wrangling\n",
    "4. Answering questions\n",
    "    - Question 2\n",
    "    - Question 3\n",
    "    - Question 4\n",
    "    - Question 5\n",
    "    - Question 6\n",
    "    - Question 7\n",
    "    - Question 8\n",
    "    - Question 9\n",
    "    - Question 10\n",
    "5. Exporting data"
   ]
  },
  {
   "cell_type": "markdown",
   "id": "3ce6e15f",
   "metadata": {},
   "source": [
    "# 01. Importing libraries"
   ]
  },
  {
   "cell_type": "code",
   "execution_count": 34,
   "id": "83a30b71",
   "metadata": {},
   "outputs": [],
   "source": [
    "# Import libraries\n",
    "import pandas as pd\n",
    "import numpy as np\n",
    "import os"
   ]
  },
  {
   "cell_type": "markdown",
   "id": "9772eabf",
   "metadata": {},
   "source": [
    "# 02. Importing data"
   ]
  },
  {
   "cell_type": "code",
   "execution_count": 35,
   "id": "1396069e",
   "metadata": {},
   "outputs": [],
   "source": [
    "# Turn project folder path into a string\n",
    "path = r'/Users/sarahtischer/Desktop/CareerFoundry/Data Immersion/Achievement 4/01-2024_Instacart_Basket_Analysis'"
   ]
  },
  {
   "cell_type": "code",
   "execution_count": 36,
   "id": "e1a4970b",
   "metadata": {},
   "outputs": [],
   "source": [
    "# Import \"orders.csv\"\n",
    "df_ords = pd.read_csv(os.path.join(path, '02_Data', 'Original_data', 'orders.csv'), index_col = False)"
   ]
  },
  {
   "cell_type": "code",
   "execution_count": 37,
   "id": "f2950b00",
   "metadata": {},
   "outputs": [
    {
     "data": {
      "text/plain": [
       "(3421083, 7)"
      ]
     },
     "execution_count": 37,
     "metadata": {},
     "output_type": "execute_result"
    }
   ],
   "source": [
    "df_ords.shape"
   ]
  },
  {
   "cell_type": "code",
   "execution_count": 38,
   "id": "807100b7",
   "metadata": {},
   "outputs": [],
   "source": [
    "# Import \"products.csv\"\n",
    "df_prods = pd.read_csv(os.path.join(path, '02_Data', 'Original_data', 'products.csv'), index_col = False)"
   ]
  },
  {
   "cell_type": "code",
   "execution_count": 39,
   "id": "6dfb8bc0",
   "metadata": {},
   "outputs": [
    {
     "data": {
      "text/plain": [
       "(49693, 5)"
      ]
     },
     "execution_count": 39,
     "metadata": {},
     "output_type": "execute_result"
    }
   ],
   "source": [
    "df_prods.shape"
   ]
  },
  {
   "cell_type": "code",
   "execution_count": 40,
   "id": "83d6abcf",
   "metadata": {},
   "outputs": [],
   "source": [
    "# Import \"departments.csv\"\n",
    "df_dep = pd.read_csv(os.path.join(path, '02_Data', 'Original_data', 'departments.csv'), index_col = False)"
   ]
  },
  {
   "cell_type": "code",
   "execution_count": 41,
   "id": "97eb7332",
   "metadata": {},
   "outputs": [
    {
     "data": {
      "text/plain": [
       "(1, 22)"
      ]
     },
     "execution_count": 41,
     "metadata": {},
     "output_type": "execute_result"
    }
   ],
   "source": [
    "df_dep.shape"
   ]
  },
  {
   "cell_type": "markdown",
   "id": "1c583aae",
   "metadata": {},
   "source": [
    "# 03. Data wrangling"
   ]
  },
  {
   "cell_type": "code",
   "execution_count": 42,
   "id": "626979da",
   "metadata": {},
   "outputs": [],
   "source": [
    "# Drop 'eval_set' column from df_ords\n",
    "df_ords = df_ords.drop(columns = ['eval_set'])"
   ]
  },
  {
   "cell_type": "code",
   "execution_count": 43,
   "id": "f2c5aeb5",
   "metadata": {},
   "outputs": [],
   "source": [
    "# Rename 'order_dow' to 'orders_day_of_week' in df_ords\n",
    "df_ords.rename(columns = {'order_dow' : 'orders_day_of_week'}, inplace = True)"
   ]
  },
  {
   "cell_type": "code",
   "execution_count": 44,
   "id": "8e4a509d",
   "metadata": {},
   "outputs": [],
   "source": [
    "# Change data type of 'order_id' from int to str\n",
    "df_ords['order_id'] = df_ords['order_id'].astype('str')"
   ]
  },
  {
   "cell_type": "code",
   "execution_count": 45,
   "id": "9f84cebd",
   "metadata": {},
   "outputs": [],
   "source": [
    "# Transpose df_dep to df_dep_t\n",
    "df_dep_t = df_dep.T"
   ]
  },
  {
   "cell_type": "code",
   "execution_count": 46,
   "id": "74fcfb64",
   "metadata": {},
   "outputs": [
    {
     "data": {
      "text/html": [
       "<div>\n",
       "<style scoped>\n",
       "    .dataframe tbody tr th:only-of-type {\n",
       "        vertical-align: middle;\n",
       "    }\n",
       "\n",
       "    .dataframe tbody tr th {\n",
       "        vertical-align: top;\n",
       "    }\n",
       "\n",
       "    .dataframe thead th {\n",
       "        text-align: right;\n",
       "    }\n",
       "</style>\n",
       "<table border=\"1\" class=\"dataframe\">\n",
       "  <thead>\n",
       "    <tr style=\"text-align: right;\">\n",
       "      <th></th>\n",
       "      <th>index</th>\n",
       "      <th>0</th>\n",
       "    </tr>\n",
       "  </thead>\n",
       "  <tbody>\n",
       "    <tr>\n",
       "      <th>0</th>\n",
       "      <td>department_id</td>\n",
       "      <td>department</td>\n",
       "    </tr>\n",
       "    <tr>\n",
       "      <th>1</th>\n",
       "      <td>1</td>\n",
       "      <td>frozen</td>\n",
       "    </tr>\n",
       "    <tr>\n",
       "      <th>2</th>\n",
       "      <td>2</td>\n",
       "      <td>other</td>\n",
       "    </tr>\n",
       "    <tr>\n",
       "      <th>3</th>\n",
       "      <td>3</td>\n",
       "      <td>bakery</td>\n",
       "    </tr>\n",
       "    <tr>\n",
       "      <th>4</th>\n",
       "      <td>4</td>\n",
       "      <td>produce</td>\n",
       "    </tr>\n",
       "    <tr>\n",
       "      <th>5</th>\n",
       "      <td>5</td>\n",
       "      <td>alcohol</td>\n",
       "    </tr>\n",
       "    <tr>\n",
       "      <th>6</th>\n",
       "      <td>6</td>\n",
       "      <td>international</td>\n",
       "    </tr>\n",
       "    <tr>\n",
       "      <th>7</th>\n",
       "      <td>7</td>\n",
       "      <td>beverages</td>\n",
       "    </tr>\n",
       "    <tr>\n",
       "      <th>8</th>\n",
       "      <td>8</td>\n",
       "      <td>pets</td>\n",
       "    </tr>\n",
       "    <tr>\n",
       "      <th>9</th>\n",
       "      <td>9</td>\n",
       "      <td>dry goods pasta</td>\n",
       "    </tr>\n",
       "    <tr>\n",
       "      <th>10</th>\n",
       "      <td>10</td>\n",
       "      <td>bulk</td>\n",
       "    </tr>\n",
       "    <tr>\n",
       "      <th>11</th>\n",
       "      <td>11</td>\n",
       "      <td>personal care</td>\n",
       "    </tr>\n",
       "    <tr>\n",
       "      <th>12</th>\n",
       "      <td>12</td>\n",
       "      <td>meat seafood</td>\n",
       "    </tr>\n",
       "    <tr>\n",
       "      <th>13</th>\n",
       "      <td>13</td>\n",
       "      <td>pantry</td>\n",
       "    </tr>\n",
       "    <tr>\n",
       "      <th>14</th>\n",
       "      <td>14</td>\n",
       "      <td>breakfast</td>\n",
       "    </tr>\n",
       "    <tr>\n",
       "      <th>15</th>\n",
       "      <td>15</td>\n",
       "      <td>canned goods</td>\n",
       "    </tr>\n",
       "    <tr>\n",
       "      <th>16</th>\n",
       "      <td>16</td>\n",
       "      <td>dairy eggs</td>\n",
       "    </tr>\n",
       "    <tr>\n",
       "      <th>17</th>\n",
       "      <td>17</td>\n",
       "      <td>household</td>\n",
       "    </tr>\n",
       "    <tr>\n",
       "      <th>18</th>\n",
       "      <td>18</td>\n",
       "      <td>babies</td>\n",
       "    </tr>\n",
       "    <tr>\n",
       "      <th>19</th>\n",
       "      <td>19</td>\n",
       "      <td>snacks</td>\n",
       "    </tr>\n",
       "    <tr>\n",
       "      <th>20</th>\n",
       "      <td>20</td>\n",
       "      <td>deli</td>\n",
       "    </tr>\n",
       "    <tr>\n",
       "      <th>21</th>\n",
       "      <td>21</td>\n",
       "      <td>missing</td>\n",
       "    </tr>\n",
       "  </tbody>\n",
       "</table>\n",
       "</div>"
      ],
      "text/plain": [
       "            index                0\n",
       "0   department_id       department\n",
       "1               1           frozen\n",
       "2               2            other\n",
       "3               3           bakery\n",
       "4               4          produce\n",
       "5               5          alcohol\n",
       "6               6    international\n",
       "7               7        beverages\n",
       "8               8             pets\n",
       "9               9  dry goods pasta\n",
       "10             10             bulk\n",
       "11             11    personal care\n",
       "12             12     meat seafood\n",
       "13             13           pantry\n",
       "14             14        breakfast\n",
       "15             15     canned goods\n",
       "16             16       dairy eggs\n",
       "17             17        household\n",
       "18             18           babies\n",
       "19             19           snacks\n",
       "20             20             deli\n",
       "21             21          missing"
      ]
     },
     "execution_count": 46,
     "metadata": {},
     "output_type": "execute_result"
    }
   ],
   "source": [
    "# Add an index to df_dep_t\n",
    "df_dep_t.reset_index()"
   ]
  },
  {
   "cell_type": "code",
   "execution_count": 47,
   "id": "4eb22ea7",
   "metadata": {},
   "outputs": [],
   "source": [
    "# Assign a new header to df_dep_t\n",
    "\n",
    "new_header = df_dep_t.iloc[0] # Assigning values of first row (index = 0) to a variable\n",
    "\n",
    "df_dep_t_new = df_dep_t[1:] # Creating new dataframe by copying rows beyond the first row\n",
    "\n",
    "df_dep_t_new.columns = new_header # Assigning new_header variable as column names"
   ]
  },
  {
   "cell_type": "code",
   "execution_count": 48,
   "id": "757d3568",
   "metadata": {},
   "outputs": [
    {
     "data": {
      "text/html": [
       "<div>\n",
       "<style scoped>\n",
       "    .dataframe tbody tr th:only-of-type {\n",
       "        vertical-align: middle;\n",
       "    }\n",
       "\n",
       "    .dataframe tbody tr th {\n",
       "        vertical-align: top;\n",
       "    }\n",
       "\n",
       "    .dataframe thead th {\n",
       "        text-align: right;\n",
       "    }\n",
       "</style>\n",
       "<table border=\"1\" class=\"dataframe\">\n",
       "  <thead>\n",
       "    <tr style=\"text-align: right;\">\n",
       "      <th>department_id</th>\n",
       "      <th>department</th>\n",
       "    </tr>\n",
       "  </thead>\n",
       "  <tbody>\n",
       "    <tr>\n",
       "      <th>1</th>\n",
       "      <td>frozen</td>\n",
       "    </tr>\n",
       "    <tr>\n",
       "      <th>2</th>\n",
       "      <td>other</td>\n",
       "    </tr>\n",
       "    <tr>\n",
       "      <th>3</th>\n",
       "      <td>bakery</td>\n",
       "    </tr>\n",
       "    <tr>\n",
       "      <th>4</th>\n",
       "      <td>produce</td>\n",
       "    </tr>\n",
       "    <tr>\n",
       "      <th>5</th>\n",
       "      <td>alcohol</td>\n",
       "    </tr>\n",
       "    <tr>\n",
       "      <th>6</th>\n",
       "      <td>international</td>\n",
       "    </tr>\n",
       "    <tr>\n",
       "      <th>7</th>\n",
       "      <td>beverages</td>\n",
       "    </tr>\n",
       "    <tr>\n",
       "      <th>8</th>\n",
       "      <td>pets</td>\n",
       "    </tr>\n",
       "    <tr>\n",
       "      <th>9</th>\n",
       "      <td>dry goods pasta</td>\n",
       "    </tr>\n",
       "    <tr>\n",
       "      <th>10</th>\n",
       "      <td>bulk</td>\n",
       "    </tr>\n",
       "    <tr>\n",
       "      <th>11</th>\n",
       "      <td>personal care</td>\n",
       "    </tr>\n",
       "    <tr>\n",
       "      <th>12</th>\n",
       "      <td>meat seafood</td>\n",
       "    </tr>\n",
       "    <tr>\n",
       "      <th>13</th>\n",
       "      <td>pantry</td>\n",
       "    </tr>\n",
       "    <tr>\n",
       "      <th>14</th>\n",
       "      <td>breakfast</td>\n",
       "    </tr>\n",
       "    <tr>\n",
       "      <th>15</th>\n",
       "      <td>canned goods</td>\n",
       "    </tr>\n",
       "    <tr>\n",
       "      <th>16</th>\n",
       "      <td>dairy eggs</td>\n",
       "    </tr>\n",
       "    <tr>\n",
       "      <th>17</th>\n",
       "      <td>household</td>\n",
       "    </tr>\n",
       "    <tr>\n",
       "      <th>18</th>\n",
       "      <td>babies</td>\n",
       "    </tr>\n",
       "    <tr>\n",
       "      <th>19</th>\n",
       "      <td>snacks</td>\n",
       "    </tr>\n",
       "    <tr>\n",
       "      <th>20</th>\n",
       "      <td>deli</td>\n",
       "    </tr>\n",
       "    <tr>\n",
       "      <th>21</th>\n",
       "      <td>missing</td>\n",
       "    </tr>\n",
       "  </tbody>\n",
       "</table>\n",
       "</div>"
      ],
      "text/plain": [
       "department_id       department\n",
       "1                       frozen\n",
       "2                        other\n",
       "3                       bakery\n",
       "4                      produce\n",
       "5                      alcohol\n",
       "6                international\n",
       "7                    beverages\n",
       "8                         pets\n",
       "9              dry goods pasta\n",
       "10                        bulk\n",
       "11               personal care\n",
       "12                meat seafood\n",
       "13                      pantry\n",
       "14                   breakfast\n",
       "15                canned goods\n",
       "16                  dairy eggs\n",
       "17                   household\n",
       "18                      babies\n",
       "19                      snacks\n",
       "20                        deli\n",
       "21                     missing"
      ]
     },
     "execution_count": 48,
     "metadata": {},
     "output_type": "execute_result"
    }
   ],
   "source": [
    "df_dep_t_new"
   ]
  },
  {
   "cell_type": "code",
   "execution_count": 49,
   "id": "22e8d75c",
   "metadata": {},
   "outputs": [],
   "source": [
    "# Create a data dictionary of df_dep_t_new\n",
    "data_dict = df_dep_t_new.to_dict('index')"
   ]
  },
  {
   "cell_type": "code",
   "execution_count": 50,
   "id": "7ea17933",
   "metadata": {},
   "outputs": [
    {
     "data": {
      "text/plain": [
       "{'1': {'department': 'frozen'},\n",
       " '2': {'department': 'other'},\n",
       " '3': {'department': 'bakery'},\n",
       " '4': {'department': 'produce'},\n",
       " '5': {'department': 'alcohol'},\n",
       " '6': {'department': 'international'},\n",
       " '7': {'department': 'beverages'},\n",
       " '8': {'department': 'pets'},\n",
       " '9': {'department': 'dry goods pasta'},\n",
       " '10': {'department': 'bulk'},\n",
       " '11': {'department': 'personal care'},\n",
       " '12': {'department': 'meat seafood'},\n",
       " '13': {'department': 'pantry'},\n",
       " '14': {'department': 'breakfast'},\n",
       " '15': {'department': 'canned goods'},\n",
       " '16': {'department': 'dairy eggs'},\n",
       " '17': {'department': 'household'},\n",
       " '18': {'department': 'babies'},\n",
       " '19': {'department': 'snacks'},\n",
       " '20': {'department': 'deli'},\n",
       " '21': {'department': 'missing'}}"
      ]
     },
     "execution_count": 50,
     "metadata": {},
     "output_type": "execute_result"
    }
   ],
   "source": [
    "data_dict"
   ]
  },
  {
   "cell_type": "code",
   "execution_count": 51,
   "id": "ad434b4f",
   "metadata": {},
   "outputs": [],
   "source": [
    "# Create a subset of df_prods\n",
    "df_snacks = df_prods[df_prods['department_id']==19]"
   ]
  },
  {
   "cell_type": "markdown",
   "id": "54a96d8c",
   "metadata": {},
   "source": [
    "# 04. Answering questions"
   ]
  },
  {
   "cell_type": "code",
   "execution_count": 52,
   "id": "68bbf3dc",
   "metadata": {},
   "outputs": [
    {
     "name": "stdout",
     "output_type": "stream",
     "text": [
      "<class 'pandas.core.frame.DataFrame'>\n",
      "RangeIndex: 3421083 entries, 0 to 3421082\n",
      "Data columns (total 6 columns):\n",
      " #   Column                  Dtype  \n",
      "---  ------                  -----  \n",
      " 0   order_id                object \n",
      " 1   user_id                 int64  \n",
      " 2   order_number            int64  \n",
      " 3   orders_day_of_week      int64  \n",
      " 4   order_hour_of_day       int64  \n",
      " 5   days_since_prior_order  float64\n",
      "dtypes: float64(1), int64(4), object(1)\n",
      "memory usage: 156.6+ MB\n"
     ]
    }
   ],
   "source": [
    "df_ords.info()"
   ]
  },
  {
   "cell_type": "markdown",
   "id": "b65922ca",
   "metadata": {},
   "source": [
    "### Question 2"
   ]
  },
  {
   "cell_type": "code",
   "execution_count": 53,
   "id": "10badba5",
   "metadata": {},
   "outputs": [],
   "source": [
    "# Change data type of 'user_id' from int to str\n",
    "df_ords['user_id'] = df_ords['user_id'].astype('str')"
   ]
  },
  {
   "cell_type": "markdown",
   "id": "527906c2",
   "metadata": {},
   "source": [
    "### Question 3"
   ]
  },
  {
   "cell_type": "code",
   "execution_count": 54,
   "id": "d77dc2d6",
   "metadata": {
    "scrolled": true
   },
   "outputs": [
    {
     "data": {
      "text/html": [
       "<div>\n",
       "<style scoped>\n",
       "    .dataframe tbody tr th:only-of-type {\n",
       "        vertical-align: middle;\n",
       "    }\n",
       "\n",
       "    .dataframe tbody tr th {\n",
       "        vertical-align: top;\n",
       "    }\n",
       "\n",
       "    .dataframe thead th {\n",
       "        text-align: right;\n",
       "    }\n",
       "</style>\n",
       "<table border=\"1\" class=\"dataframe\">\n",
       "  <thead>\n",
       "    <tr style=\"text-align: right;\">\n",
       "      <th></th>\n",
       "      <th>order_id</th>\n",
       "      <th>user_id</th>\n",
       "      <th>order_sequence</th>\n",
       "      <th>order_day_of_week</th>\n",
       "      <th>order_hour_of_day</th>\n",
       "      <th>days_since_prior_order</th>\n",
       "    </tr>\n",
       "  </thead>\n",
       "  <tbody>\n",
       "    <tr>\n",
       "      <th>0</th>\n",
       "      <td>2539329</td>\n",
       "      <td>1</td>\n",
       "      <td>1</td>\n",
       "      <td>2</td>\n",
       "      <td>8</td>\n",
       "      <td>NaN</td>\n",
       "    </tr>\n",
       "    <tr>\n",
       "      <th>1</th>\n",
       "      <td>2398795</td>\n",
       "      <td>1</td>\n",
       "      <td>2</td>\n",
       "      <td>3</td>\n",
       "      <td>7</td>\n",
       "      <td>15.0</td>\n",
       "    </tr>\n",
       "    <tr>\n",
       "      <th>2</th>\n",
       "      <td>473747</td>\n",
       "      <td>1</td>\n",
       "      <td>3</td>\n",
       "      <td>3</td>\n",
       "      <td>12</td>\n",
       "      <td>21.0</td>\n",
       "    </tr>\n",
       "    <tr>\n",
       "      <th>3</th>\n",
       "      <td>2254736</td>\n",
       "      <td>1</td>\n",
       "      <td>4</td>\n",
       "      <td>4</td>\n",
       "      <td>7</td>\n",
       "      <td>29.0</td>\n",
       "    </tr>\n",
       "    <tr>\n",
       "      <th>4</th>\n",
       "      <td>431534</td>\n",
       "      <td>1</td>\n",
       "      <td>5</td>\n",
       "      <td>4</td>\n",
       "      <td>15</td>\n",
       "      <td>28.0</td>\n",
       "    </tr>\n",
       "    <tr>\n",
       "      <th>...</th>\n",
       "      <td>...</td>\n",
       "      <td>...</td>\n",
       "      <td>...</td>\n",
       "      <td>...</td>\n",
       "      <td>...</td>\n",
       "      <td>...</td>\n",
       "    </tr>\n",
       "    <tr>\n",
       "      <th>3421078</th>\n",
       "      <td>2266710</td>\n",
       "      <td>206209</td>\n",
       "      <td>10</td>\n",
       "      <td>5</td>\n",
       "      <td>18</td>\n",
       "      <td>29.0</td>\n",
       "    </tr>\n",
       "    <tr>\n",
       "      <th>3421079</th>\n",
       "      <td>1854736</td>\n",
       "      <td>206209</td>\n",
       "      <td>11</td>\n",
       "      <td>4</td>\n",
       "      <td>10</td>\n",
       "      <td>30.0</td>\n",
       "    </tr>\n",
       "    <tr>\n",
       "      <th>3421080</th>\n",
       "      <td>626363</td>\n",
       "      <td>206209</td>\n",
       "      <td>12</td>\n",
       "      <td>1</td>\n",
       "      <td>12</td>\n",
       "      <td>18.0</td>\n",
       "    </tr>\n",
       "    <tr>\n",
       "      <th>3421081</th>\n",
       "      <td>2977660</td>\n",
       "      <td>206209</td>\n",
       "      <td>13</td>\n",
       "      <td>1</td>\n",
       "      <td>12</td>\n",
       "      <td>7.0</td>\n",
       "    </tr>\n",
       "    <tr>\n",
       "      <th>3421082</th>\n",
       "      <td>272231</td>\n",
       "      <td>206209</td>\n",
       "      <td>14</td>\n",
       "      <td>6</td>\n",
       "      <td>14</td>\n",
       "      <td>30.0</td>\n",
       "    </tr>\n",
       "  </tbody>\n",
       "</table>\n",
       "<p>3421083 rows × 6 columns</p>\n",
       "</div>"
      ],
      "text/plain": [
       "        order_id user_id  order_sequence  order_day_of_week  \\\n",
       "0        2539329       1               1                  2   \n",
       "1        2398795       1               2                  3   \n",
       "2         473747       1               3                  3   \n",
       "3        2254736       1               4                  4   \n",
       "4         431534       1               5                  4   \n",
       "...          ...     ...             ...                ...   \n",
       "3421078  2266710  206209              10                  5   \n",
       "3421079  1854736  206209              11                  4   \n",
       "3421080   626363  206209              12                  1   \n",
       "3421081  2977660  206209              13                  1   \n",
       "3421082   272231  206209              14                  6   \n",
       "\n",
       "         order_hour_of_day  days_since_prior_order  \n",
       "0                        8                     NaN  \n",
       "1                        7                    15.0  \n",
       "2                       12                    21.0  \n",
       "3                        7                    29.0  \n",
       "4                       15                    28.0  \n",
       "...                    ...                     ...  \n",
       "3421078                 18                    29.0  \n",
       "3421079                 10                    30.0  \n",
       "3421080                 12                    18.0  \n",
       "3421081                 12                     7.0  \n",
       "3421082                 14                    30.0  \n",
       "\n",
       "[3421083 rows x 6 columns]"
      ]
     },
     "execution_count": 54,
     "metadata": {},
     "output_type": "execute_result"
    }
   ],
   "source": [
    "# Rename 'orders_day_of_week' to 'order_day_of_week' in df_ords to be consistent with 'order_hour_of_day',\n",
    "# Rename 'order_number' to 'order_sequence' in df_ords to make it more intuitive\n",
    "df_ords.rename(\n",
    "    columns = {'orders_day_of_week' : 'order_day_of_week', 'order_number' : 'order_sequence'}, \n",
    "    inplace = False\n",
    ")"
   ]
  },
  {
   "cell_type": "markdown",
   "id": "b651baad",
   "metadata": {},
   "source": [
    "### Question 4"
   ]
  },
  {
   "cell_type": "code",
   "execution_count": 55,
   "id": "4c3b99d2",
   "metadata": {},
   "outputs": [
    {
     "data": {
      "text/plain": [
       "order_hour_of_day\n",
       "10    288418\n",
       "11    284728\n",
       "15    283639\n",
       "14    283042\n",
       "13    277999\n",
       "12    272841\n",
       "16    272553\n",
       "9     257812\n",
       "17    228795\n",
       "18    182912\n",
       "8     178201\n",
       "19    140569\n",
       "20    104292\n",
       "7      91868\n",
       "21     78109\n",
       "22     61468\n",
       "23     40043\n",
       "6      30529\n",
       "0      22758\n",
       "1      12398\n",
       "5       9569\n",
       "2       7539\n",
       "4       5527\n",
       "3       5474\n",
       "Name: count, dtype: int64"
      ]
     },
     "execution_count": 55,
     "metadata": {},
     "output_type": "execute_result"
    }
   ],
   "source": [
    "# Find frequencies of order hours\n",
    "df_ords['order_hour_of_day'].value_counts(dropna = True)"
   ]
  },
  {
   "cell_type": "markdown",
   "id": "b5049cab",
   "metadata": {},
   "source": [
    "#### *<mark>Answer:</mark> The busiest hour for placing orders is 10 a.m.*"
   ]
  },
  {
   "cell_type": "markdown",
   "id": "0c04ea44",
   "metadata": {},
   "source": [
    "### Question 5"
   ]
  },
  {
   "cell_type": "code",
   "execution_count": 56,
   "id": "4f3e7930",
   "metadata": {},
   "outputs": [
    {
     "name": "stdout",
     "output_type": "stream",
     "text": [
      "{'department': 'produce'}\n"
     ]
    }
   ],
   "source": [
    "# Determine the meaning behind a value of 4 in the 'department_id' column\n",
    "print(data_dict.get('4'))"
   ]
  },
  {
   "cell_type": "markdown",
   "id": "ec1d561e",
   "metadata": {},
   "source": [
    "#### *<mark>Answer:</mark> Products with a department ID of 4 are in the department 'produce'.*"
   ]
  },
  {
   "cell_type": "markdown",
   "id": "6ea06d79",
   "metadata": {},
   "source": [
    "### Question 6"
   ]
  },
  {
   "cell_type": "code",
   "execution_count": 57,
   "id": "072e713e",
   "metadata": {},
   "outputs": [],
   "source": [
    "# Create subset with breakfast item sales\n",
    "df_breakfast = df_prods.loc[df_prods['department_id'] == 14]"
   ]
  },
  {
   "cell_type": "markdown",
   "id": "886afa34",
   "metadata": {},
   "source": [
    "### Question 7"
   ]
  },
  {
   "cell_type": "code",
   "execution_count": 58,
   "id": "ba412ab1",
   "metadata": {},
   "outputs": [
    {
     "data": {
      "text/html": [
       "<div>\n",
       "<style scoped>\n",
       "    .dataframe tbody tr th:only-of-type {\n",
       "        vertical-align: middle;\n",
       "    }\n",
       "\n",
       "    .dataframe tbody tr th {\n",
       "        vertical-align: top;\n",
       "    }\n",
       "\n",
       "    .dataframe thead th {\n",
       "        text-align: right;\n",
       "    }\n",
       "</style>\n",
       "<table border=\"1\" class=\"dataframe\">\n",
       "  <thead>\n",
       "    <tr style=\"text-align: right;\">\n",
       "      <th></th>\n",
       "      <th>product_id</th>\n",
       "      <th>product_name</th>\n",
       "      <th>aisle_id</th>\n",
       "      <th>department_id</th>\n",
       "      <th>prices</th>\n",
       "    </tr>\n",
       "  </thead>\n",
       "  <tbody>\n",
       "    <tr>\n",
       "      <th>2</th>\n",
       "      <td>3</td>\n",
       "      <td>Robust Golden Unsweetened Oolong Tea</td>\n",
       "      <td>94</td>\n",
       "      <td>7</td>\n",
       "      <td>4.5</td>\n",
       "    </tr>\n",
       "    <tr>\n",
       "      <th>6</th>\n",
       "      <td>7</td>\n",
       "      <td>Pure Coconut Water With Orange</td>\n",
       "      <td>98</td>\n",
       "      <td>7</td>\n",
       "      <td>4.4</td>\n",
       "    </tr>\n",
       "    <tr>\n",
       "      <th>9</th>\n",
       "      <td>10</td>\n",
       "      <td>Sparkling Orange Juice &amp; Prickly Pear Beverage</td>\n",
       "      <td>115</td>\n",
       "      <td>7</td>\n",
       "      <td>8.4</td>\n",
       "    </tr>\n",
       "    <tr>\n",
       "      <th>10</th>\n",
       "      <td>11</td>\n",
       "      <td>Peach Mango Juice</td>\n",
       "      <td>31</td>\n",
       "      <td>7</td>\n",
       "      <td>2.8</td>\n",
       "    </tr>\n",
       "    <tr>\n",
       "      <th>16</th>\n",
       "      <td>17</td>\n",
       "      <td>Rendered Duck Fat</td>\n",
       "      <td>35</td>\n",
       "      <td>12</td>\n",
       "      <td>17.1</td>\n",
       "    </tr>\n",
       "    <tr>\n",
       "      <th>...</th>\n",
       "      <td>...</td>\n",
       "      <td>...</td>\n",
       "      <td>...</td>\n",
       "      <td>...</td>\n",
       "      <td>...</td>\n",
       "    </tr>\n",
       "    <tr>\n",
       "      <th>49676</th>\n",
       "      <td>49672</td>\n",
       "      <td>Cafe Mocha K-Cup Packs</td>\n",
       "      <td>26</td>\n",
       "      <td>7</td>\n",
       "      <td>6.5</td>\n",
       "    </tr>\n",
       "    <tr>\n",
       "      <th>49679</th>\n",
       "      <td>49675</td>\n",
       "      <td>Cinnamon Dolce Keurig Brewed K Cups</td>\n",
       "      <td>26</td>\n",
       "      <td>7</td>\n",
       "      <td>14.0</td>\n",
       "    </tr>\n",
       "    <tr>\n",
       "      <th>49680</th>\n",
       "      <td>49676</td>\n",
       "      <td>Ultra Red Energy Drink</td>\n",
       "      <td>64</td>\n",
       "      <td>7</td>\n",
       "      <td>14.5</td>\n",
       "    </tr>\n",
       "    <tr>\n",
       "      <th>49686</th>\n",
       "      <td>49682</td>\n",
       "      <td>California Limeade</td>\n",
       "      <td>98</td>\n",
       "      <td>7</td>\n",
       "      <td>4.3</td>\n",
       "    </tr>\n",
       "    <tr>\n",
       "      <th>49688</th>\n",
       "      <td>49684</td>\n",
       "      <td>Vodka, Triple Distilled, Twist of Vanilla</td>\n",
       "      <td>124</td>\n",
       "      <td>5</td>\n",
       "      <td>5.3</td>\n",
       "    </tr>\n",
       "  </tbody>\n",
       "</table>\n",
       "<p>7650 rows × 5 columns</p>\n",
       "</div>"
      ],
      "text/plain": [
       "       product_id                                    product_name  aisle_id  \\\n",
       "2               3            Robust Golden Unsweetened Oolong Tea        94   \n",
       "6               7                  Pure Coconut Water With Orange        98   \n",
       "9              10  Sparkling Orange Juice & Prickly Pear Beverage       115   \n",
       "10             11                               Peach Mango Juice        31   \n",
       "16             17                               Rendered Duck Fat        35   \n",
       "...           ...                                             ...       ...   \n",
       "49676       49672                          Cafe Mocha K-Cup Packs        26   \n",
       "49679       49675             Cinnamon Dolce Keurig Brewed K Cups        26   \n",
       "49680       49676                          Ultra Red Energy Drink        64   \n",
       "49686       49682                              California Limeade        98   \n",
       "49688       49684       Vodka, Triple Distilled, Twist of Vanilla       124   \n",
       "\n",
       "       department_id  prices  \n",
       "2                  7     4.5  \n",
       "6                  7     4.4  \n",
       "9                  7     8.4  \n",
       "10                 7     2.8  \n",
       "16                12    17.1  \n",
       "...              ...     ...  \n",
       "49676              7     6.5  \n",
       "49679              7    14.0  \n",
       "49680              7    14.5  \n",
       "49686              7     4.3  \n",
       "49688              5     5.3  \n",
       "\n",
       "[7650 rows x 5 columns]"
      ]
     },
     "execution_count": 58,
     "metadata": {},
     "output_type": "execute_result"
    }
   ],
   "source": [
    "# Create subset for dinner party items from departments alcohol, deli, beverages, and meat/seafood\n",
    "df_dinner_party = df_prods.loc[df_prods['department_id'].isin([5, 7, 12, 20])]\n",
    "\n",
    "df_dinner_party"
   ]
  },
  {
   "cell_type": "markdown",
   "id": "500bf8fe",
   "metadata": {},
   "source": [
    "### Question 8"
   ]
  },
  {
   "cell_type": "code",
   "execution_count": 59,
   "id": "5bb5f173",
   "metadata": {},
   "outputs": [
    {
     "data": {
      "text/plain": [
       "(7650, 5)"
      ]
     },
     "execution_count": 59,
     "metadata": {},
     "output_type": "execute_result"
    }
   ],
   "source": [
    "# Print dimensions of df_dinner_party\n",
    "df_dinner_party.shape"
   ]
  },
  {
   "cell_type": "markdown",
   "id": "6aa6dc42",
   "metadata": {},
   "source": [
    "#### *<mark>Answer:</mark> df_dinner_party has 7650 rows.*"
   ]
  },
  {
   "cell_type": "markdown",
   "id": "d40d2210",
   "metadata": {},
   "source": [
    "### Question 9"
   ]
  },
  {
   "cell_type": "code",
   "execution_count": 60,
   "id": "f9a989ef",
   "metadata": {},
   "outputs": [],
   "source": [
    "# Print information for user_id = 1 as df_ords_user_1\n",
    "df_ords_user_1 = df_ords.loc[df_ords['user_id'] == '1']"
   ]
  },
  {
   "cell_type": "markdown",
   "id": "0ad6f1f0",
   "metadata": {},
   "source": [
    "### Question 10"
   ]
  },
  {
   "cell_type": "code",
   "execution_count": 61,
   "id": "fba9271b",
   "metadata": {
    "scrolled": true
   },
   "outputs": [
    {
     "data": {
      "text/html": [
       "<div>\n",
       "<style scoped>\n",
       "    .dataframe tbody tr th:only-of-type {\n",
       "        vertical-align: middle;\n",
       "    }\n",
       "\n",
       "    .dataframe tbody tr th {\n",
       "        vertical-align: top;\n",
       "    }\n",
       "\n",
       "    .dataframe thead th {\n",
       "        text-align: right;\n",
       "    }\n",
       "</style>\n",
       "<table border=\"1\" class=\"dataframe\">\n",
       "  <thead>\n",
       "    <tr style=\"text-align: right;\">\n",
       "      <th></th>\n",
       "      <th>order_number</th>\n",
       "      <th>orders_day_of_week</th>\n",
       "      <th>order_hour_of_day</th>\n",
       "      <th>days_since_prior_order</th>\n",
       "    </tr>\n",
       "  </thead>\n",
       "  <tbody>\n",
       "    <tr>\n",
       "      <th>count</th>\n",
       "      <td>11.000000</td>\n",
       "      <td>11.000000</td>\n",
       "      <td>11.000000</td>\n",
       "      <td>10.000000</td>\n",
       "    </tr>\n",
       "    <tr>\n",
       "      <th>mean</th>\n",
       "      <td>6.000000</td>\n",
       "      <td>2.636364</td>\n",
       "      <td>10.090909</td>\n",
       "      <td>19.000000</td>\n",
       "    </tr>\n",
       "    <tr>\n",
       "      <th>std</th>\n",
       "      <td>3.316625</td>\n",
       "      <td>1.286291</td>\n",
       "      <td>3.477198</td>\n",
       "      <td>9.030811</td>\n",
       "    </tr>\n",
       "    <tr>\n",
       "      <th>min</th>\n",
       "      <td>1.000000</td>\n",
       "      <td>1.000000</td>\n",
       "      <td>7.000000</td>\n",
       "      <td>0.000000</td>\n",
       "    </tr>\n",
       "    <tr>\n",
       "      <th>25%</th>\n",
       "      <td>3.500000</td>\n",
       "      <td>1.500000</td>\n",
       "      <td>7.500000</td>\n",
       "      <td>14.250000</td>\n",
       "    </tr>\n",
       "    <tr>\n",
       "      <th>50%</th>\n",
       "      <td>6.000000</td>\n",
       "      <td>3.000000</td>\n",
       "      <td>8.000000</td>\n",
       "      <td>19.500000</td>\n",
       "    </tr>\n",
       "    <tr>\n",
       "      <th>75%</th>\n",
       "      <td>8.500000</td>\n",
       "      <td>4.000000</td>\n",
       "      <td>13.000000</td>\n",
       "      <td>26.250000</td>\n",
       "    </tr>\n",
       "    <tr>\n",
       "      <th>max</th>\n",
       "      <td>11.000000</td>\n",
       "      <td>4.000000</td>\n",
       "      <td>16.000000</td>\n",
       "      <td>30.000000</td>\n",
       "    </tr>\n",
       "  </tbody>\n",
       "</table>\n",
       "</div>"
      ],
      "text/plain": [
       "       order_number  orders_day_of_week  order_hour_of_day  \\\n",
       "count     11.000000           11.000000          11.000000   \n",
       "mean       6.000000            2.636364          10.090909   \n",
       "std        3.316625            1.286291           3.477198   \n",
       "min        1.000000            1.000000           7.000000   \n",
       "25%        3.500000            1.500000           7.500000   \n",
       "50%        6.000000            3.000000           8.000000   \n",
       "75%        8.500000            4.000000          13.000000   \n",
       "max       11.000000            4.000000          16.000000   \n",
       "\n",
       "       days_since_prior_order  \n",
       "count               10.000000  \n",
       "mean                19.000000  \n",
       "std                  9.030811  \n",
       "min                  0.000000  \n",
       "25%                 14.250000  \n",
       "50%                 19.500000  \n",
       "75%                 26.250000  \n",
       "max                 30.000000  "
      ]
     },
     "execution_count": 61,
     "metadata": {},
     "output_type": "execute_result"
    }
   ],
   "source": [
    "# Print descriptive statistics for df_ords_user_1\n",
    "df_ords_user_1.describe()"
   ]
  },
  {
   "cell_type": "markdown",
   "id": "b6052195",
   "metadata": {},
   "source": [
    "#### *<mark>Answers</mark>*\n",
    "* ***The user has placed 11 orders in total.***\n",
    "* ***The user ordered earliest at 7 a.m. and latest at 4 p.m., and usually orders around 10 a.m.***\n",
    "* ***The user placed orders between day 1 (Sunday) and 4 (Wednesday) of the week.***\n",
    "* ***On average, the user orders every 19 days.***"
   ]
  },
  {
   "cell_type": "markdown",
   "id": "7c1ab3a4",
   "metadata": {},
   "source": [
    "# 05. Exporting data"
   ]
  },
  {
   "cell_type": "code",
   "execution_count": 62,
   "id": "997890f5",
   "metadata": {},
   "outputs": [
    {
     "data": {
      "text/plain": [
       "(3421083, 6)"
      ]
     },
     "execution_count": 62,
     "metadata": {},
     "output_type": "execute_result"
    }
   ],
   "source": [
    "df_ords.shape"
   ]
  },
  {
   "cell_type": "code",
   "execution_count": 63,
   "id": "561ffe17",
   "metadata": {},
   "outputs": [],
   "source": [
    "# Export df_ords as \"orders_wrangled.csv\"\n",
    "df_ords.to_csv(os.path.join(path, '02_Data','Prepared_data', 'orders_wrangled.csv'), index = False)"
   ]
  },
  {
   "cell_type": "code",
   "execution_count": 64,
   "id": "d4052b49",
   "metadata": {},
   "outputs": [
    {
     "data": {
      "text/plain": [
       "(21, 1)"
      ]
     },
     "execution_count": 64,
     "metadata": {},
     "output_type": "execute_result"
    }
   ],
   "source": [
    "df_dep_t_new.shape"
   ]
  },
  {
   "cell_type": "code",
   "execution_count": 65,
   "id": "f1ad0bcc",
   "metadata": {},
   "outputs": [],
   "source": [
    "# Export df_dep_t_new as \"departments_wrangled.csv\"\n",
    "df_dep_t_new.to_csv(os.path.join(path, '02_Data','Prepared_data', 'departments_wrangled.csv'))"
   ]
  }
 ],
 "metadata": {
  "kernelspec": {
   "display_name": "Python 3 (ipykernel)",
   "language": "python",
   "name": "python3"
  },
  "language_info": {
   "codemirror_mode": {
    "name": "ipython",
    "version": 3
   },
   "file_extension": ".py",
   "mimetype": "text/x-python",
   "name": "python",
   "nbconvert_exporter": "python",
   "pygments_lexer": "ipython3",
   "version": "3.11.5"
  }
 },
 "nbformat": 4,
 "nbformat_minor": 5
}
